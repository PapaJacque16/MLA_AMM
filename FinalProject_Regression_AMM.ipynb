{
  "nbformat": 4,
  "nbformat_minor": 0,
  "metadata": {
    "colab": {
      "provenance": []
    },
    "kernelspec": {
      "name": "python3",
      "display_name": "Python 3"
    },
    "language_info": {
      "name": "python"
    }
  },
  "cells": [
    {
      "cell_type": "markdown",
      "source": [
        "###Machine Learning Problem 1 Regression\n",
        "###Aaron McCarley\n",
        "###CS430-ON\n",
        "###Machine Learning in the Cloud"
      ],
      "metadata": {
        "id": "iFtYw2mirwIQ"
      }
    },
    {
      "cell_type": "markdown",
      "source": [
        "###Importing libraries"
      ],
      "metadata": {
        "id": "ONPkcb4Gr0bP"
      }
    },
    {
      "cell_type": "code",
      "execution_count": null,
      "metadata": {
        "id": "FJSa9YvlqP8r"
      },
      "outputs": [],
      "source": [
        "import pandas as pd\n",
        "import numpy as np\n",
        "import matplotlib.pyplot as plt\n",
        "import seaborn as sns \n",
        "%matplotlib inline"
      ]
    },
    {
      "cell_type": "code",
      "source": [
        "from google.colab import drive\n",
        "drive.mount('/content/gdrive')"
      ],
      "metadata": {
        "colab": {
          "base_uri": "https://localhost:8080/"
        },
        "id": "Ppd2A3xkr-l0",
        "outputId": "cc79b19a-1c1e-4571-fc48-93830ac11f69"
      },
      "execution_count": null,
      "outputs": [
        {
          "output_type": "stream",
          "name": "stdout",
          "text": [
            "Mounted at /content/gdrive\n"
          ]
        }
      ]
    },
    {
      "cell_type": "markdown",
      "source": [
        "###Imports for specific models\n",
        "Include imports for Linear Regression, and both SVC and SVR"
      ],
      "metadata": {
        "id": "Lk98N0vZuU-D"
      }
    },
    {
      "cell_type": "code",
      "source": [
        "from sklearn.linear_model import LinearRegression\n",
        "from sklearn.svm import SVC, SVR, LinearSVC, LinearSVR"
      ],
      "metadata": {
        "id": "D3CgLrxGudjl"
      },
      "execution_count": null,
      "outputs": []
    },
    {
      "cell_type": "markdown",
      "source": [
        "###Imports for buiding transformers, the pipleine, and splitting data"
      ],
      "metadata": {
        "id": "oTzieG1r3t2w"
      }
    },
    {
      "cell_type": "code",
      "source": [
        "from sklearn.pipeline import Pipeline\n",
        "from sklearn.compose import ColumnTransformer\n",
        "from sklearn.preprocessing import MinMaxScaler\n",
        "from sklearn.preprocessing import StandardScaler\n",
        "from sklearn.preprocessing import OneHotEncoder\n",
        "from sklearn.model_selection import train_test_split, GridSearchCV"
      ],
      "metadata": {
        "id": "-p8U10nk3tge"
      },
      "execution_count": null,
      "outputs": []
    },
    {
      "cell_type": "markdown",
      "source": [
        "###Import performance measures to evaluate the model"
      ],
      "metadata": {
        "id": "8WlGO70q4jP7"
      }
    },
    {
      "cell_type": "code",
      "source": [
        "from matplotlib import colors\n",
        "from sklearn.preprocessing import StandardScaler\n",
        "from sklearn.metrics import classification_report\n",
        "from sklearn.metrics import roc_auc_score\n",
        "from sklearn import metrics\n",
        "from matplotlib import style\n",
        "style.use('fivethirtyeight')\n",
        "\n",
        "from sklearn.metrics import confusion_matrix as plot_cm\n",
        "from sklearn.metrics import precision_score, recall_score, f1_score\n",
        "from sklearn.metrics import roc_curve\n",
        "from sklearn.metrics import mean_squared_error, r2_score, mean_absolute_error"
      ],
      "metadata": {
        "id": "rm9yNfcm4q4k"
      },
      "execution_count": null,
      "outputs": []
    },
    {
      "cell_type": "markdown",
      "source": [
        "###Set config option to display the pipeline diagram"
      ],
      "metadata": {
        "id": "mTqltbgP5Us1"
      }
    },
    {
      "cell_type": "markdown",
      "source": [],
      "metadata": {
        "id": "SxI866v1I8Wl"
      }
    },
    {
      "cell_type": "code",
      "source": [
        "from sklearn import set_config\n",
        "set_config(display='diagram')"
      ],
      "metadata": {
        "id": "0Y3BSj1s5bii"
      },
      "execution_count": null,
      "outputs": []
    },
    {
      "cell_type": "markdown",
      "source": [
        "###SVC Classification"
      ],
      "metadata": {
        "id": "8ohwL1_vtkmw"
      }
    },
    {
      "cell_type": "markdown",
      "source": [
        "###Load the Health.csv into a data frame named df.\n",
        "###Rename the columns according to Table 1: Columns Names."
      ],
      "metadata": {
        "id": "g-iJEnALMXgU"
      }
    },
    {
      "cell_type": "code",
      "source": [
        "df = pd.read_csv('/content/gdrive/MyDrive/CS430/Health.csv')\n",
        "df"
      ],
      "metadata": {
        "id": "OamhgpJmKkNi",
        "colab": {
          "base_uri": "https://localhost:8080/",
          "height": 419
        },
        "outputId": "42d93c09-230f-451f-d3fa-a6fe5b3a1f67"
      },
      "execution_count": null,
      "outputs": [
        {
          "output_type": "execute_result",
          "data": {
            "text/plain": [
              "     OBS   ID  SEX  AGE  MARITAL  EDUCAT  EMPLOY  INCOME  RELIG  C1  ...  C20  \\\n",
              "0      1    1    2   68        5       2       4       4      1   0  ...    0   \n",
              "1      2    2    1   58        3       4       1      15      1   0  ...    0   \n",
              "2      3    3    2   45        2       3       1      28      1   0  ...    0   \n",
              "3      4    4    2   50        3       3       3       9      1   0  ...    0   \n",
              "4      5    5    2   33        4       3       1      35      1   0  ...    0   \n",
              "..   ...  ...  ...  ...      ...     ...     ...     ...    ...  ..  ...  ...   \n",
              "289  290  290    1   49        4       7       1      23      3   0  ...    0   \n",
              "290  291  291    1   45        2       5       1      35      3   0  ...    0   \n",
              "291  292  292    1   64        2       4       1      55      3   0  ...    0   \n",
              "292  293  293    1   43        3       6       1      28      1   0  ...    0   \n",
              "293  294  294    2   58        1       3       4       9      1   1  ...    1   \n",
              "\n",
              "     CESD  CASES  DRINK  HEALTH  REGDOC  TREAT  BEDDAYS  ACUTEILL  CHRONILL  \n",
              "0       0      0      2       2       1      1        0         0         1  \n",
              "1       4      0      1       1       1      1        0         0         1  \n",
              "2       4      0      1       2       1      1        0         0         0  \n",
              "3       5      0      2       1       1      2        0         0         1  \n",
              "4       6      0      1       1       1      1        1         1         0  \n",
              "..    ...    ...    ...     ...     ...    ...      ...       ...       ...  \n",
              "289     0      0      1       2       2      1        0         0         1  \n",
              "290     3      0      1       1       1      2        0         0         0  \n",
              "291     9      0      1       2       1      2        0         0         1  \n",
              "292     2      0      2       1       1      2        0         1         1  \n",
              "293    10      0      2       3       1      1        0         0         1  \n",
              "\n",
              "[294 rows x 38 columns]"
            ],
            "text/html": [
              "\n",
              "  <div id=\"df-f093395d-8fdf-4ab3-bc70-a6bc38bb49d2\">\n",
              "    <div class=\"colab-df-container\">\n",
              "      <div>\n",
              "<style scoped>\n",
              "    .dataframe tbody tr th:only-of-type {\n",
              "        vertical-align: middle;\n",
              "    }\n",
              "\n",
              "    .dataframe tbody tr th {\n",
              "        vertical-align: top;\n",
              "    }\n",
              "\n",
              "    .dataframe thead th {\n",
              "        text-align: right;\n",
              "    }\n",
              "</style>\n",
              "<table border=\"1\" class=\"dataframe\">\n",
              "  <thead>\n",
              "    <tr style=\"text-align: right;\">\n",
              "      <th></th>\n",
              "      <th>OBS</th>\n",
              "      <th>ID</th>\n",
              "      <th>SEX</th>\n",
              "      <th>AGE</th>\n",
              "      <th>MARITAL</th>\n",
              "      <th>EDUCAT</th>\n",
              "      <th>EMPLOY</th>\n",
              "      <th>INCOME</th>\n",
              "      <th>RELIG</th>\n",
              "      <th>C1</th>\n",
              "      <th>...</th>\n",
              "      <th>C20</th>\n",
              "      <th>CESD</th>\n",
              "      <th>CASES</th>\n",
              "      <th>DRINK</th>\n",
              "      <th>HEALTH</th>\n",
              "      <th>REGDOC</th>\n",
              "      <th>TREAT</th>\n",
              "      <th>BEDDAYS</th>\n",
              "      <th>ACUTEILL</th>\n",
              "      <th>CHRONILL</th>\n",
              "    </tr>\n",
              "  </thead>\n",
              "  <tbody>\n",
              "    <tr>\n",
              "      <th>0</th>\n",
              "      <td>1</td>\n",
              "      <td>1</td>\n",
              "      <td>2</td>\n",
              "      <td>68</td>\n",
              "      <td>5</td>\n",
              "      <td>2</td>\n",
              "      <td>4</td>\n",
              "      <td>4</td>\n",
              "      <td>1</td>\n",
              "      <td>0</td>\n",
              "      <td>...</td>\n",
              "      <td>0</td>\n",
              "      <td>0</td>\n",
              "      <td>0</td>\n",
              "      <td>2</td>\n",
              "      <td>2</td>\n",
              "      <td>1</td>\n",
              "      <td>1</td>\n",
              "      <td>0</td>\n",
              "      <td>0</td>\n",
              "      <td>1</td>\n",
              "    </tr>\n",
              "    <tr>\n",
              "      <th>1</th>\n",
              "      <td>2</td>\n",
              "      <td>2</td>\n",
              "      <td>1</td>\n",
              "      <td>58</td>\n",
              "      <td>3</td>\n",
              "      <td>4</td>\n",
              "      <td>1</td>\n",
              "      <td>15</td>\n",
              "      <td>1</td>\n",
              "      <td>0</td>\n",
              "      <td>...</td>\n",
              "      <td>0</td>\n",
              "      <td>4</td>\n",
              "      <td>0</td>\n",
              "      <td>1</td>\n",
              "      <td>1</td>\n",
              "      <td>1</td>\n",
              "      <td>1</td>\n",
              "      <td>0</td>\n",
              "      <td>0</td>\n",
              "      <td>1</td>\n",
              "    </tr>\n",
              "    <tr>\n",
              "      <th>2</th>\n",
              "      <td>3</td>\n",
              "      <td>3</td>\n",
              "      <td>2</td>\n",
              "      <td>45</td>\n",
              "      <td>2</td>\n",
              "      <td>3</td>\n",
              "      <td>1</td>\n",
              "      <td>28</td>\n",
              "      <td>1</td>\n",
              "      <td>0</td>\n",
              "      <td>...</td>\n",
              "      <td>0</td>\n",
              "      <td>4</td>\n",
              "      <td>0</td>\n",
              "      <td>1</td>\n",
              "      <td>2</td>\n",
              "      <td>1</td>\n",
              "      <td>1</td>\n",
              "      <td>0</td>\n",
              "      <td>0</td>\n",
              "      <td>0</td>\n",
              "    </tr>\n",
              "    <tr>\n",
              "      <th>3</th>\n",
              "      <td>4</td>\n",
              "      <td>4</td>\n",
              "      <td>2</td>\n",
              "      <td>50</td>\n",
              "      <td>3</td>\n",
              "      <td>3</td>\n",
              "      <td>3</td>\n",
              "      <td>9</td>\n",
              "      <td>1</td>\n",
              "      <td>0</td>\n",
              "      <td>...</td>\n",
              "      <td>0</td>\n",
              "      <td>5</td>\n",
              "      <td>0</td>\n",
              "      <td>2</td>\n",
              "      <td>1</td>\n",
              "      <td>1</td>\n",
              "      <td>2</td>\n",
              "      <td>0</td>\n",
              "      <td>0</td>\n",
              "      <td>1</td>\n",
              "    </tr>\n",
              "    <tr>\n",
              "      <th>4</th>\n",
              "      <td>5</td>\n",
              "      <td>5</td>\n",
              "      <td>2</td>\n",
              "      <td>33</td>\n",
              "      <td>4</td>\n",
              "      <td>3</td>\n",
              "      <td>1</td>\n",
              "      <td>35</td>\n",
              "      <td>1</td>\n",
              "      <td>0</td>\n",
              "      <td>...</td>\n",
              "      <td>0</td>\n",
              "      <td>6</td>\n",
              "      <td>0</td>\n",
              "      <td>1</td>\n",
              "      <td>1</td>\n",
              "      <td>1</td>\n",
              "      <td>1</td>\n",
              "      <td>1</td>\n",
              "      <td>1</td>\n",
              "      <td>0</td>\n",
              "    </tr>\n",
              "    <tr>\n",
              "      <th>...</th>\n",
              "      <td>...</td>\n",
              "      <td>...</td>\n",
              "      <td>...</td>\n",
              "      <td>...</td>\n",
              "      <td>...</td>\n",
              "      <td>...</td>\n",
              "      <td>...</td>\n",
              "      <td>...</td>\n",
              "      <td>...</td>\n",
              "      <td>...</td>\n",
              "      <td>...</td>\n",
              "      <td>...</td>\n",
              "      <td>...</td>\n",
              "      <td>...</td>\n",
              "      <td>...</td>\n",
              "      <td>...</td>\n",
              "      <td>...</td>\n",
              "      <td>...</td>\n",
              "      <td>...</td>\n",
              "      <td>...</td>\n",
              "      <td>...</td>\n",
              "    </tr>\n",
              "    <tr>\n",
              "      <th>289</th>\n",
              "      <td>290</td>\n",
              "      <td>290</td>\n",
              "      <td>1</td>\n",
              "      <td>49</td>\n",
              "      <td>4</td>\n",
              "      <td>7</td>\n",
              "      <td>1</td>\n",
              "      <td>23</td>\n",
              "      <td>3</td>\n",
              "      <td>0</td>\n",
              "      <td>...</td>\n",
              "      <td>0</td>\n",
              "      <td>0</td>\n",
              "      <td>0</td>\n",
              "      <td>1</td>\n",
              "      <td>2</td>\n",
              "      <td>2</td>\n",
              "      <td>1</td>\n",
              "      <td>0</td>\n",
              "      <td>0</td>\n",
              "      <td>1</td>\n",
              "    </tr>\n",
              "    <tr>\n",
              "      <th>290</th>\n",
              "      <td>291</td>\n",
              "      <td>291</td>\n",
              "      <td>1</td>\n",
              "      <td>45</td>\n",
              "      <td>2</td>\n",
              "      <td>5</td>\n",
              "      <td>1</td>\n",
              "      <td>35</td>\n",
              "      <td>3</td>\n",
              "      <td>0</td>\n",
              "      <td>...</td>\n",
              "      <td>0</td>\n",
              "      <td>3</td>\n",
              "      <td>0</td>\n",
              "      <td>1</td>\n",
              "      <td>1</td>\n",
              "      <td>1</td>\n",
              "      <td>2</td>\n",
              "      <td>0</td>\n",
              "      <td>0</td>\n",
              "      <td>0</td>\n",
              "    </tr>\n",
              "    <tr>\n",
              "      <th>291</th>\n",
              "      <td>292</td>\n",
              "      <td>292</td>\n",
              "      <td>1</td>\n",
              "      <td>64</td>\n",
              "      <td>2</td>\n",
              "      <td>4</td>\n",
              "      <td>1</td>\n",
              "      <td>55</td>\n",
              "      <td>3</td>\n",
              "      <td>0</td>\n",
              "      <td>...</td>\n",
              "      <td>0</td>\n",
              "      <td>9</td>\n",
              "      <td>0</td>\n",
              "      <td>1</td>\n",
              "      <td>2</td>\n",
              "      <td>1</td>\n",
              "      <td>2</td>\n",
              "      <td>0</td>\n",
              "      <td>0</td>\n",
              "      <td>1</td>\n",
              "    </tr>\n",
              "    <tr>\n",
              "      <th>292</th>\n",
              "      <td>293</td>\n",
              "      <td>293</td>\n",
              "      <td>1</td>\n",
              "      <td>43</td>\n",
              "      <td>3</td>\n",
              "      <td>6</td>\n",
              "      <td>1</td>\n",
              "      <td>28</td>\n",
              "      <td>1</td>\n",
              "      <td>0</td>\n",
              "      <td>...</td>\n",
              "      <td>0</td>\n",
              "      <td>2</td>\n",
              "      <td>0</td>\n",
              "      <td>2</td>\n",
              "      <td>1</td>\n",
              "      <td>1</td>\n",
              "      <td>2</td>\n",
              "      <td>0</td>\n",
              "      <td>1</td>\n",
              "      <td>1</td>\n",
              "    </tr>\n",
              "    <tr>\n",
              "      <th>293</th>\n",
              "      <td>294</td>\n",
              "      <td>294</td>\n",
              "      <td>2</td>\n",
              "      <td>58</td>\n",
              "      <td>1</td>\n",
              "      <td>3</td>\n",
              "      <td>4</td>\n",
              "      <td>9</td>\n",
              "      <td>1</td>\n",
              "      <td>1</td>\n",
              "      <td>...</td>\n",
              "      <td>1</td>\n",
              "      <td>10</td>\n",
              "      <td>0</td>\n",
              "      <td>2</td>\n",
              "      <td>3</td>\n",
              "      <td>1</td>\n",
              "      <td>1</td>\n",
              "      <td>0</td>\n",
              "      <td>0</td>\n",
              "      <td>1</td>\n",
              "    </tr>\n",
              "  </tbody>\n",
              "</table>\n",
              "<p>294 rows × 38 columns</p>\n",
              "</div>\n",
              "      <button class=\"colab-df-convert\" onclick=\"convertToInteractive('df-f093395d-8fdf-4ab3-bc70-a6bc38bb49d2')\"\n",
              "              title=\"Convert this dataframe to an interactive table.\"\n",
              "              style=\"display:none;\">\n",
              "        \n",
              "  <svg xmlns=\"http://www.w3.org/2000/svg\" height=\"24px\"viewBox=\"0 0 24 24\"\n",
              "       width=\"24px\">\n",
              "    <path d=\"M0 0h24v24H0V0z\" fill=\"none\"/>\n",
              "    <path d=\"M18.56 5.44l.94 2.06.94-2.06 2.06-.94-2.06-.94-.94-2.06-.94 2.06-2.06.94zm-11 1L8.5 8.5l.94-2.06 2.06-.94-2.06-.94L8.5 2.5l-.94 2.06-2.06.94zm10 10l.94 2.06.94-2.06 2.06-.94-2.06-.94-.94-2.06-.94 2.06-2.06.94z\"/><path d=\"M17.41 7.96l-1.37-1.37c-.4-.4-.92-.59-1.43-.59-.52 0-1.04.2-1.43.59L10.3 9.45l-7.72 7.72c-.78.78-.78 2.05 0 2.83L4 21.41c.39.39.9.59 1.41.59.51 0 1.02-.2 1.41-.59l7.78-7.78 2.81-2.81c.8-.78.8-2.07 0-2.86zM5.41 20L4 18.59l7.72-7.72 1.47 1.35L5.41 20z\"/>\n",
              "  </svg>\n",
              "      </button>\n",
              "      \n",
              "  <style>\n",
              "    .colab-df-container {\n",
              "      display:flex;\n",
              "      flex-wrap:wrap;\n",
              "      gap: 12px;\n",
              "    }\n",
              "\n",
              "    .colab-df-convert {\n",
              "      background-color: #E8F0FE;\n",
              "      border: none;\n",
              "      border-radius: 50%;\n",
              "      cursor: pointer;\n",
              "      display: none;\n",
              "      fill: #1967D2;\n",
              "      height: 32px;\n",
              "      padding: 0 0 0 0;\n",
              "      width: 32px;\n",
              "    }\n",
              "\n",
              "    .colab-df-convert:hover {\n",
              "      background-color: #E2EBFA;\n",
              "      box-shadow: 0px 1px 2px rgba(60, 64, 67, 0.3), 0px 1px 3px 1px rgba(60, 64, 67, 0.15);\n",
              "      fill: #174EA6;\n",
              "    }\n",
              "\n",
              "    [theme=dark] .colab-df-convert {\n",
              "      background-color: #3B4455;\n",
              "      fill: #D2E3FC;\n",
              "    }\n",
              "\n",
              "    [theme=dark] .colab-df-convert:hover {\n",
              "      background-color: #434B5C;\n",
              "      box-shadow: 0px 1px 3px 1px rgba(0, 0, 0, 0.15);\n",
              "      filter: drop-shadow(0px 1px 2px rgba(0, 0, 0, 0.3));\n",
              "      fill: #FFFFFF;\n",
              "    }\n",
              "  </style>\n",
              "\n",
              "      <script>\n",
              "        const buttonEl =\n",
              "          document.querySelector('#df-f093395d-8fdf-4ab3-bc70-a6bc38bb49d2 button.colab-df-convert');\n",
              "        buttonEl.style.display =\n",
              "          google.colab.kernel.accessAllowed ? 'block' : 'none';\n",
              "\n",
              "        async function convertToInteractive(key) {\n",
              "          const element = document.querySelector('#df-f093395d-8fdf-4ab3-bc70-a6bc38bb49d2');\n",
              "          const dataTable =\n",
              "            await google.colab.kernel.invokeFunction('convertToInteractive',\n",
              "                                                     [key], {});\n",
              "          if (!dataTable) return;\n",
              "\n",
              "          const docLinkHtml = 'Like what you see? Visit the ' +\n",
              "            '<a target=\"_blank\" href=https://colab.research.google.com/notebooks/data_table.ipynb>data table notebook</a>'\n",
              "            + ' to learn more about interactive tables.';\n",
              "          element.innerHTML = '';\n",
              "          dataTable['output_type'] = 'display_data';\n",
              "          await google.colab.output.renderOutput(dataTable, element);\n",
              "          const docLink = document.createElement('div');\n",
              "          docLink.innerHTML = docLinkHtml;\n",
              "          element.appendChild(docLink);\n",
              "        }\n",
              "      </script>\n",
              "    </div>\n",
              "  </div>\n",
              "  "
            ]
          },
          "metadata": {},
          "execution_count": 235
        }
      ]
    },
    {
      "cell_type": "code",
      "source": [
        "df.dtypes"
      ],
      "metadata": {
        "colab": {
          "base_uri": "https://localhost:8080/"
        },
        "id": "QI3E2uNkk5Xn",
        "outputId": "7e7769a3-1e90-4a11-a27e-896fd76bf4b8"
      },
      "execution_count": null,
      "outputs": [
        {
          "output_type": "execute_result",
          "data": {
            "text/plain": [
              "OBS         int64\n",
              "ID          int64\n",
              "SEX         int64\n",
              "AGE         int64\n",
              "MARITAL     int64\n",
              "EDUCAT      int64\n",
              "EMPLOY      int64\n",
              "INCOME      int64\n",
              "RELIG       int64\n",
              "C1          int64\n",
              "C2          int64\n",
              "C3          int64\n",
              "C4          int64\n",
              "C5          int64\n",
              "C6          int64\n",
              "C7          int64\n",
              "C8          int64\n",
              "C9          int64\n",
              "C10         int64\n",
              "C11         int64\n",
              "C12         int64\n",
              "C13         int64\n",
              "C14         int64\n",
              "C15         int64\n",
              "C16         int64\n",
              "C17         int64\n",
              "C18         int64\n",
              "C19         int64\n",
              "C20         int64\n",
              "CESD        int64\n",
              "CASES       int64\n",
              "DRINK       int64\n",
              "HEALTH      int64\n",
              "REGDOC      int64\n",
              "TREAT       int64\n",
              "BEDDAYS     int64\n",
              "ACUTEILL    int64\n",
              "CHRONILL    int64\n",
              "dtype: object"
            ]
          },
          "metadata": {},
          "execution_count": 236
        }
      ]
    },
    {
      "cell_type": "markdown",
      "source": [
        "###Create a data frame called y of your output. This will be your target variable that you are trying to predict."
      ],
      "metadata": {
        "id": "mIBsuocXNHCC"
      }
    },
    {
      "cell_type": "code",
      "source": [
        "X = df[['CESD', 'INCOME', 'EDUCAT', 'SEX']]\n",
        "y = df['CASES']"
      ],
      "metadata": {
        "id": "b4lrCGHiNYeF"
      },
      "execution_count": null,
      "outputs": []
    },
    {
      "cell_type": "code",
      "source": [
        "print (\"Shape of the data, excluding dependent variable\", X.shape)"
      ],
      "metadata": {
        "colab": {
          "base_uri": "https://localhost:8080/"
        },
        "id": "PoeB6kt9TDh-",
        "outputId": "a429cc6a-86d9-4992-f078-1daaebf3efe1"
      },
      "execution_count": null,
      "outputs": [
        {
          "output_type": "stream",
          "name": "stdout",
          "text": [
            "Shape of the data, excluding dependent variable (294, 4)\n"
          ]
        }
      ]
    },
    {
      "cell_type": "code",
      "source": [
        "print (\"Shape of the data, excluding independent variables\", y.shape)"
      ],
      "metadata": {
        "colab": {
          "base_uri": "https://localhost:8080/"
        },
        "id": "AB20tHBATMQv",
        "outputId": "8ff013ff-9c20-4027-f9ea-4779589e3c86"
      },
      "execution_count": null,
      "outputs": [
        {
          "output_type": "stream",
          "name": "stdout",
          "text": [
            "Shape of the data, excluding independent variables (294,)\n"
          ]
        }
      ]
    },
    {
      "cell_type": "markdown",
      "source": [
        "###Split the data into Train/Test sets.  Use 20% of the data for testing. You should have 4 data frames X_train, X_test, y_train,  and y_test."
      ],
      "metadata": {
        "id": "JhVbKbGpNT4K"
      }
    },
    {
      "cell_type": "code",
      "source": [
        "X_train, X_test, y_train, y_test = train_test_split(X, y, test_size=.2, random_state=0)"
      ],
      "metadata": {
        "id": "CddseLq1NZSi"
      },
      "execution_count": null,
      "outputs": []
    },
    {
      "cell_type": "markdown",
      "source": [
        "####Standardize the Datasets"
      ],
      "metadata": {
        "id": "FG11mrHYTbhz"
      }
    },
    {
      "cell_type": "code",
      "source": [
        "scaler = StandardScaler(copy=True, with_mean=True, with_std=True)\n",
        "X_train=pd.DataFrame(scaler.fit_transform(X_train), columns=X_train.columns)\n",
        "X_test=pd.DataFrame(scaler.fit_transform(X_test), columns=X_test.columns)"
      ],
      "metadata": {
        "id": "dVZjY9nHTalM"
      },
      "execution_count": null,
      "outputs": []
    },
    {
      "cell_type": "code",
      "source": [
        "X_train.head();"
      ],
      "metadata": {
        "id": "W6tPJd3VTrYO"
      },
      "execution_count": null,
      "outputs": []
    },
    {
      "cell_type": "code",
      "source": [
        "X_test.head();"
      ],
      "metadata": {
        "id": "uAvHg70GTymz"
      },
      "execution_count": null,
      "outputs": []
    },
    {
      "cell_type": "markdown",
      "source": [
        "####I am using Linear Regression to fit a classifier"
      ],
      "metadata": {
        "id": "zfj5iPrtT3pJ"
      }
    },
    {
      "cell_type": "code",
      "source": [
        "classifier = LinearRegression()\n",
        "classifier.fit(X_train, y_train)"
      ],
      "metadata": {
        "colab": {
          "base_uri": "https://localhost:8080/",
          "height": 74
        },
        "id": "wSbwVqQdKk89",
        "outputId": "4d18c38e-3172-46b9-ddc5-65d42ace32d3"
      },
      "execution_count": null,
      "outputs": [
        {
          "output_type": "execute_result",
          "data": {
            "text/plain": [
              "LinearRegression()"
            ],
            "text/html": [
              "<style>#sk-container-id-28 {color: black;background-color: white;}#sk-container-id-28 pre{padding: 0;}#sk-container-id-28 div.sk-toggleable {background-color: white;}#sk-container-id-28 label.sk-toggleable__label {cursor: pointer;display: block;width: 100%;margin-bottom: 0;padding: 0.3em;box-sizing: border-box;text-align: center;}#sk-container-id-28 label.sk-toggleable__label-arrow:before {content: \"▸\";float: left;margin-right: 0.25em;color: #696969;}#sk-container-id-28 label.sk-toggleable__label-arrow:hover:before {color: black;}#sk-container-id-28 div.sk-estimator:hover label.sk-toggleable__label-arrow:before {color: black;}#sk-container-id-28 div.sk-toggleable__content {max-height: 0;max-width: 0;overflow: hidden;text-align: left;background-color: #f0f8ff;}#sk-container-id-28 div.sk-toggleable__content pre {margin: 0.2em;color: black;border-radius: 0.25em;background-color: #f0f8ff;}#sk-container-id-28 input.sk-toggleable__control:checked~div.sk-toggleable__content {max-height: 200px;max-width: 100%;overflow: auto;}#sk-container-id-28 input.sk-toggleable__control:checked~label.sk-toggleable__label-arrow:before {content: \"▾\";}#sk-container-id-28 div.sk-estimator input.sk-toggleable__control:checked~label.sk-toggleable__label {background-color: #d4ebff;}#sk-container-id-28 div.sk-label input.sk-toggleable__control:checked~label.sk-toggleable__label {background-color: #d4ebff;}#sk-container-id-28 input.sk-hidden--visually {border: 0;clip: rect(1px 1px 1px 1px);clip: rect(1px, 1px, 1px, 1px);height: 1px;margin: -1px;overflow: hidden;padding: 0;position: absolute;width: 1px;}#sk-container-id-28 div.sk-estimator {font-family: monospace;background-color: #f0f8ff;border: 1px dotted black;border-radius: 0.25em;box-sizing: border-box;margin-bottom: 0.5em;}#sk-container-id-28 div.sk-estimator:hover {background-color: #d4ebff;}#sk-container-id-28 div.sk-parallel-item::after {content: \"\";width: 100%;border-bottom: 1px solid gray;flex-grow: 1;}#sk-container-id-28 div.sk-label:hover label.sk-toggleable__label {background-color: #d4ebff;}#sk-container-id-28 div.sk-serial::before {content: \"\";position: absolute;border-left: 1px solid gray;box-sizing: border-box;top: 0;bottom: 0;left: 50%;z-index: 0;}#sk-container-id-28 div.sk-serial {display: flex;flex-direction: column;align-items: center;background-color: white;padding-right: 0.2em;padding-left: 0.2em;position: relative;}#sk-container-id-28 div.sk-item {position: relative;z-index: 1;}#sk-container-id-28 div.sk-parallel {display: flex;align-items: stretch;justify-content: center;background-color: white;position: relative;}#sk-container-id-28 div.sk-item::before, #sk-container-id-28 div.sk-parallel-item::before {content: \"\";position: absolute;border-left: 1px solid gray;box-sizing: border-box;top: 0;bottom: 0;left: 50%;z-index: -1;}#sk-container-id-28 div.sk-parallel-item {display: flex;flex-direction: column;z-index: 1;position: relative;background-color: white;}#sk-container-id-28 div.sk-parallel-item:first-child::after {align-self: flex-end;width: 50%;}#sk-container-id-28 div.sk-parallel-item:last-child::after {align-self: flex-start;width: 50%;}#sk-container-id-28 div.sk-parallel-item:only-child::after {width: 0;}#sk-container-id-28 div.sk-dashed-wrapped {border: 1px dashed gray;margin: 0 0.4em 0.5em 0.4em;box-sizing: border-box;padding-bottom: 0.4em;background-color: white;}#sk-container-id-28 div.sk-label label {font-family: monospace;font-weight: bold;display: inline-block;line-height: 1.2em;}#sk-container-id-28 div.sk-label-container {text-align: center;}#sk-container-id-28 div.sk-container {/* jupyter's `normalize.less` sets `[hidden] { display: none; }` but bootstrap.min.css set `[hidden] { display: none !important; }` so we also need the `!important` here to be able to override the default hidden behavior on the sphinx rendered scikit-learn.org. See: https://github.com/scikit-learn/scikit-learn/issues/21755 */display: inline-block !important;position: relative;}#sk-container-id-28 div.sk-text-repr-fallback {display: none;}</style><div id=\"sk-container-id-28\" class=\"sk-top-container\"><div class=\"sk-text-repr-fallback\"><pre>LinearRegression()</pre><b>In a Jupyter environment, please rerun this cell to show the HTML representation or trust the notebook. <br />On GitHub, the HTML representation is unable to render, please try loading this page with nbviewer.org.</b></div><div class=\"sk-container\" hidden><div class=\"sk-item\"><div class=\"sk-estimator sk-toggleable\"><input class=\"sk-toggleable__control sk-hidden--visually\" id=\"sk-estimator-id-120\" type=\"checkbox\" checked><label for=\"sk-estimator-id-120\" class=\"sk-toggleable__label sk-toggleable__label-arrow\">LinearRegression</label><div class=\"sk-toggleable__content\"><pre>LinearRegression()</pre></div></div></div></div></div>"
            ]
          },
          "metadata": {},
          "execution_count": 244
        }
      ]
    },
    {
      "cell_type": "markdown",
      "source": [],
      "metadata": {
        "id": "IQr6IOKpUoo6"
      }
    },
    {
      "cell_type": "code",
      "source": [
        "np.array(y_pred);"
      ],
      "metadata": {
        "id": "rzRPLi21VGcG"
      },
      "execution_count": null,
      "outputs": []
    },
    {
      "cell_type": "code",
      "source": [
        "fpr, tpr, thresholds = metrics.roc_curve(y_test,y_pred)\n",
        "roc_auc=metrics.auc(fpr,tpr)\n",
        "roc_auc\n",
        "plt.clf()\n",
        "plt.plot(fpr,tpr,label='Roc Curve- Cases (are=%0.2f)' % roc_auc) \n",
        "plt.plot([0,1],[0,1], 'k--')\n",
        "plt.legend(loc='lower right');"
      ],
      "metadata": {
        "colab": {
          "base_uri": "https://localhost:8080/",
          "height": 449
        },
        "id": "o9Npi-izVnTi",
        "outputId": "0ff842c8-4ebe-433f-af18-e7cc9b206241"
      },
      "execution_count": null,
      "outputs": [
        {
          "output_type": "display_data",
          "data": {
            "text/plain": [
              "<Figure size 640x480 with 1 Axes>"
            ],
            "image/png": "[encoded data removed]"
          },
          "metadata": {}
        }
      ]
    },
    {
      "cell_type": "code",
      "source": [
        "print('ROC Score:', roc_auc_score(y_test, y_pred))"
      ],
      "metadata": {
        "colab": {
          "base_uri": "https://localhost:8080/"
        },
        "id": "jOtgXbzEZj-s",
        "outputId": "ffef3c98-f2cc-48b5-aaac-0d7a31964afd"
      },
      "execution_count": null,
      "outputs": [
        {
          "output_type": "stream",
          "name": "stdout",
          "text": [
            "ROC Score: 0.4626984126984127\n"
          ]
        }
      ]
    },
    {
      "cell_type": "markdown",
      "source": [
        "####Defining Labels and showing a plot of the rate of depression among Males and Females"
      ],
      "metadata": {
        "id": "Jehj5db0ZDld"
      }
    },
    {
      "cell_type": "code",
      "source": [
        "Depressed = ['SEX (Male)','SEX (Female)'] # portion covered by each label\n",
        "slices = [7, 38]\n",
        "# color for each label\n",
        "colors = ['b', 'y']\n",
        "# plotting the pie chart\n",
        "plt.pie(slices, labels = Depressed, colors=colors,\n",
        "startangle=90, shadow = True, explode = (0, 0),\n",
        "radius = 2.5, autopct = '%1.1f%%') # plotting legend\n",
        "plt.legend();\n",
        "# showing the plot plt.show()"
      ],
      "metadata": {
        "colab": {
          "base_uri": "https://localhost:8080/",
          "height": 818
        },
        "id": "2SLBsh6jXHA_",
        "outputId": "de4c6c07-b411-45e4-8dd9-085962ca4d69"
      },
      "execution_count": null,
      "outputs": [
        {
          "output_type": "display_data",
          "data": {
            "text/plain": [
              "<Figure size 640x480 with 1 Axes>"
            ],
            "image/png": "[encoded data removed]"
          },
          "metadata": {}
        }
      ]
    },
    {
      "cell_type": "markdown",
      "source": [
        "###Building the Pipeline\n",
        "###Create a column transformer that will OneHotEncode the categorical variables and MinMax scale the numerical variables (not the output)."
      ],
      "metadata": {
        "id": "87WqsdxeP1UW"
      }
    },
    {
      "cell_type": "code",
      "source": [
        "num_attribs = ['CESD', 'INCOME']\n",
        "cat_attribs = ['EDUCAT', 'SEX']"
      ],
      "metadata": {
        "id": "tvqEoZdCM79T"
      },
      "execution_count": null,
      "outputs": []
    },
    {
      "cell_type": "markdown",
      "source": [],
      "metadata": {
        "id": "E5Z4jL48Kjdw"
      }
    },
    {
      "cell_type": "code",
      "source": [
        "col_transform = ColumnTransformer(transformers=[('cat', OneHotEncoder(), cat_attribs),('num', MinMaxScaler(), num_attribs)])"
      ],
      "metadata": {
        "id": "8FzcypaoQTHs"
      },
      "execution_count": null,
      "outputs": []
    },
    {
      "cell_type": "markdown",
      "source": [
        "####Create a pipeline that will transform the data and then run a LinearRegression."
      ],
      "metadata": {
        "id": "7bxZIVzdK36m"
      }
    },
    {
      "cell_type": "code",
      "source": [
        "pipeline = Pipeline([('transform', col_transform), ('mlr_model', LinearRegression())])"
      ],
      "metadata": {
        "id": "9x9vgitsKqRj"
      },
      "execution_count": null,
      "outputs": []
    },
    {
      "cell_type": "code",
      "source": [
        "from sklearn import set_config\n",
        "set_config(display='diagram')\n",
        "pipeline"
      ],
      "metadata": {
        "colab": {
          "base_uri": "https://localhost:8080/",
          "height": 188
        },
        "id": "ddL8ul4ELR51",
        "outputId": "e9f0f1a7-4420-488d-eb80-d68cbde9128c"
      },
      "execution_count": null,
      "outputs": [
        {
          "output_type": "execute_result",
          "data": {
            "text/plain": [
              "Pipeline(steps=[('transform',\n",
              "                 ColumnTransformer(transformers=[('cat', OneHotEncoder(),\n",
              "                                                  ['EDUCAT', 'SEX']),\n",
              "                                                 ('num', MinMaxScaler(),\n",
              "                                                  ['CESD', 'INCOME'])])),\n",
              "                ('mlr_model', LinearRegression())])"
            ],
            "text/html": [
              "<style>#sk-container-id-29 {color: black;background-color: white;}#sk-container-id-29 pre{padding: 0;}#sk-container-id-29 div.sk-toggleable {background-color: white;}#sk-container-id-29 label.sk-toggleable__label {cursor: pointer;display: block;width: 100%;margin-bottom: 0;padding: 0.3em;box-sizing: border-box;text-align: center;}#sk-container-id-29 label.sk-toggleable__label-arrow:before {content: \"▸\";float: left;margin-right: 0.25em;color: #696969;}#sk-container-id-29 label.sk-toggleable__label-arrow:hover:before {color: black;}#sk-container-id-29 div.sk-estimator:hover label.sk-toggleable__label-arrow:before {color: black;}#sk-container-id-29 div.sk-toggleable__content {max-height: 0;max-width: 0;overflow: hidden;text-align: left;background-color: #f0f8ff;}#sk-container-id-29 div.sk-toggleable__content pre {margin: 0.2em;color: black;border-radius: 0.25em;background-color: #f0f8ff;}#sk-container-id-29 input.sk-toggleable__control:checked~div.sk-toggleable__content {max-height: 200px;max-width: 100%;overflow: auto;}#sk-container-id-29 input.sk-toggleable__control:checked~label.sk-toggleable__label-arrow:before {content: \"▾\";}#sk-container-id-29 div.sk-estimator input.sk-toggleable__control:checked~label.sk-toggleable__label {background-color: #d4ebff;}#sk-container-id-29 div.sk-label input.sk-toggleable__control:checked~label.sk-toggleable__label {background-color: #d4ebff;}#sk-container-id-29 input.sk-hidden--visually {border: 0;clip: rect(1px 1px 1px 1px);clip: rect(1px, 1px, 1px, 1px);height: 1px;margin: -1px;overflow: hidden;padding: 0;position: absolute;width: 1px;}#sk-container-id-29 div.sk-estimator {font-family: monospace;background-color: #f0f8ff;border: 1px dotted black;border-radius: 0.25em;box-sizing: border-box;margin-bottom: 0.5em;}#sk-container-id-29 div.sk-estimator:hover {background-color: #d4ebff;}#sk-container-id-29 div.sk-parallel-item::after {content: \"\";width: 100%;border-bottom: 1px solid gray;flex-grow: 1;}#sk-container-id-29 div.sk-label:hover label.sk-toggleable__label {background-color: #d4ebff;}#sk-container-id-29 div.sk-serial::before {content: \"\";position: absolute;border-left: 1px solid gray;box-sizing: border-box;top: 0;bottom: 0;left: 50%;z-index: 0;}#sk-container-id-29 div.sk-serial {display: flex;flex-direction: column;align-items: center;background-color: white;padding-right: 0.2em;padding-left: 0.2em;position: relative;}#sk-container-id-29 div.sk-item {position: relative;z-index: 1;}#sk-container-id-29 div.sk-parallel {display: flex;align-items: stretch;justify-content: center;background-color: white;position: relative;}#sk-container-id-29 div.sk-item::before, #sk-container-id-29 div.sk-parallel-item::before {content: \"\";position: absolute;border-left: 1px solid gray;box-sizing: border-box;top: 0;bottom: 0;left: 50%;z-index: -1;}#sk-container-id-29 div.sk-parallel-item {display: flex;flex-direction: column;z-index: 1;position: relative;background-color: white;}#sk-container-id-29 div.sk-parallel-item:first-child::after {align-self: flex-end;width: 50%;}#sk-container-id-29 div.sk-parallel-item:last-child::after {align-self: flex-start;width: 50%;}#sk-container-id-29 div.sk-parallel-item:only-child::after {width: 0;}#sk-container-id-29 div.sk-dashed-wrapped {border: 1px dashed gray;margin: 0 0.4em 0.5em 0.4em;box-sizing: border-box;padding-bottom: 0.4em;background-color: white;}#sk-container-id-29 div.sk-label label {font-family: monospace;font-weight: bold;display: inline-block;line-height: 1.2em;}#sk-container-id-29 div.sk-label-container {text-align: center;}#sk-container-id-29 div.sk-container {/* jupyter's `normalize.less` sets `[hidden] { display: none; }` but bootstrap.min.css set `[hidden] { display: none !important; }` so we also need the `!important` here to be able to override the default hidden behavior on the sphinx rendered scikit-learn.org. See: https://github.com/scikit-learn/scikit-learn/issues/21755 */display: inline-block !important;position: relative;}#sk-container-id-29 div.sk-text-repr-fallback {display: none;}</style><div id=\"sk-container-id-29\" class=\"sk-top-container\"><div class=\"sk-text-repr-fallback\"><pre>Pipeline(steps=[(&#x27;transform&#x27;,\n",
              "                 ColumnTransformer(transformers=[(&#x27;cat&#x27;, OneHotEncoder(),\n",
              "                                                  [&#x27;EDUCAT&#x27;, &#x27;SEX&#x27;]),\n",
              "                                                 (&#x27;num&#x27;, MinMaxScaler(),\n",
              "                                                  [&#x27;CESD&#x27;, &#x27;INCOME&#x27;])])),\n",
              "                (&#x27;mlr_model&#x27;, LinearRegression())])</pre><b>In a Jupyter environment, please rerun this cell to show the HTML representation or trust the notebook. <br />On GitHub, the HTML representation is unable to render, please try loading this page with nbviewer.org.</b></div><div class=\"sk-container\" hidden><div class=\"sk-item sk-dashed-wrapped\"><div class=\"sk-label-container\"><div class=\"sk-label sk-toggleable\"><input class=\"sk-toggleable__control sk-hidden--visually\" id=\"sk-estimator-id-121\" type=\"checkbox\" ><label for=\"sk-estimator-id-121\" class=\"sk-toggleable__label sk-toggleable__label-arrow\">Pipeline</label><div class=\"sk-toggleable__content\"><pre>Pipeline(steps=[(&#x27;transform&#x27;,\n",
              "                 ColumnTransformer(transformers=[(&#x27;cat&#x27;, OneHotEncoder(),\n",
              "                                                  [&#x27;EDUCAT&#x27;, &#x27;SEX&#x27;]),\n",
              "                                                 (&#x27;num&#x27;, MinMaxScaler(),\n",
              "                                                  [&#x27;CESD&#x27;, &#x27;INCOME&#x27;])])),\n",
              "                (&#x27;mlr_model&#x27;, LinearRegression())])</pre></div></div></div><div class=\"sk-serial\"><div class=\"sk-item sk-dashed-wrapped\"><div class=\"sk-label-container\"><div class=\"sk-label sk-toggleable\"><input class=\"sk-toggleable__control sk-hidden--visually\" id=\"sk-estimator-id-122\" type=\"checkbox\" ><label for=\"sk-estimator-id-122\" class=\"sk-toggleable__label sk-toggleable__label-arrow\">transform: ColumnTransformer</label><div class=\"sk-toggleable__content\"><pre>ColumnTransformer(transformers=[(&#x27;cat&#x27;, OneHotEncoder(), [&#x27;EDUCAT&#x27;, &#x27;SEX&#x27;]),\n",
              "                                (&#x27;num&#x27;, MinMaxScaler(), [&#x27;CESD&#x27;, &#x27;INCOME&#x27;])])</pre></div></div></div><div class=\"sk-parallel\"><div class=\"sk-parallel-item\"><div class=\"sk-item\"><div class=\"sk-label-container\"><div class=\"sk-label sk-toggleable\"><input class=\"sk-toggleable__control sk-hidden--visually\" id=\"sk-estimator-id-123\" type=\"checkbox\" ><label for=\"sk-estimator-id-123\" class=\"sk-toggleable__label sk-toggleable__label-arrow\">cat</label><div class=\"sk-toggleable__content\"><pre>[&#x27;EDUCAT&#x27;, &#x27;SEX&#x27;]</pre></div></div></div><div class=\"sk-serial\"><div class=\"sk-item\"><div class=\"sk-estimator sk-toggleable\"><input class=\"sk-toggleable__control sk-hidden--visually\" id=\"sk-estimator-id-124\" type=\"checkbox\" ><label for=\"sk-estimator-id-124\" class=\"sk-toggleable__label sk-toggleable__label-arrow\">OneHotEncoder</label><div class=\"sk-toggleable__content\"><pre>OneHotEncoder()</pre></div></div></div></div></div></div><div class=\"sk-parallel-item\"><div class=\"sk-item\"><div class=\"sk-label-container\"><div class=\"sk-label sk-toggleable\"><input class=\"sk-toggleable__control sk-hidden--visually\" id=\"sk-estimator-id-125\" type=\"checkbox\" ><label for=\"sk-estimator-id-125\" class=\"sk-toggleable__label sk-toggleable__label-arrow\">num</label><div class=\"sk-toggleable__content\"><pre>[&#x27;CESD&#x27;, &#x27;INCOME&#x27;]</pre></div></div></div><div class=\"sk-serial\"><div class=\"sk-item\"><div class=\"sk-estimator sk-toggleable\"><input class=\"sk-toggleable__control sk-hidden--visually\" id=\"sk-estimator-id-126\" type=\"checkbox\" ><label for=\"sk-estimator-id-126\" class=\"sk-toggleable__label sk-toggleable__label-arrow\">MinMaxScaler</label><div class=\"sk-toggleable__content\"><pre>MinMaxScaler()</pre></div></div></div></div></div></div></div></div><div class=\"sk-item\"><div class=\"sk-estimator sk-toggleable\"><input class=\"sk-toggleable__control sk-hidden--visually\" id=\"sk-estimator-id-127\" type=\"checkbox\" ><label for=\"sk-estimator-id-127\" class=\"sk-toggleable__label sk-toggleable__label-arrow\">LinearRegression</label><div class=\"sk-toggleable__content\"><pre>LinearRegression()</pre></div></div></div></div></div></div></div>"
            ]
          },
          "metadata": {},
          "execution_count": 255
        }
      ]
    },
    {
      "cell_type": "markdown",
      "source": [
        "####Run the pipeline to predict y values from the test data set and save them in a variable called y_pred."
      ],
      "metadata": {
        "id": "bLTEiR4dLB1c"
      }
    },
    {
      "cell_type": "code",
      "source": [
        "y_train_pred = classifier.predict(X_train)\n",
        "y_pred = classifier.predict(X_test)\n",
        "y_pred"
      ],
      "metadata": {
        "colab": {
          "base_uri": "https://localhost:8080/"
        },
        "id": "FC2BMCNALmwN",
        "outputId": "67369a31-0d84-4d1f-db09-74f3bc932dac"
      },
      "execution_count": null,
      "outputs": [
        {
          "output_type": "execute_result",
          "data": {
            "text/plain": [
              "array([-0.08620776,  0.07817018, -0.07821858,  0.09523014, -0.08399286,\n",
              "        0.21372281,  0.0683322 ,  0.0810151 ,  0.55173124,  0.31777258,\n",
              "        0.47402312,  0.03701035,  1.21526721, -0.02062882,  0.43645289,\n",
              "       -0.02026274, -0.0326817 ,  0.17501824,  0.70695395, -0.07913839,\n",
              "        0.01760165, -0.12164272, -0.1157394 ,  0.70627119, -0.07470861,\n",
              "        0.08950859,  0.0313651 ,  0.31283849,  0.15323871, -0.14139499,\n",
              "        0.49113581, -0.0403542 ,  0.00391931,  0.46714139,  0.01056399,\n",
              "        0.33517173,  0.06943965,  0.25931243,  0.46658767, -0.20169476,\n",
              "        0.24309703, -0.09735853,  0.09860521,  0.22788256, -0.07858467,\n",
              "       -0.11961546,  0.10508914,  0.08394446, -0.05612239,  0.14672307,\n",
              "       -0.18229087, -0.0263268 , -0.03605676,  0.19629676,  0.25053248,\n",
              "        0.60968708, -0.20557082,  0.98486795,  0.12536824])"
            ]
          },
          "metadata": {},
          "execution_count": 259
        }
      ]
    },
    {
      "cell_type": "markdown",
      "source": [
        "####Calculate the root mean squared error for both train and test. "
      ],
      "metadata": {
        "id": "HXTAmYarMOHC"
      }
    },
    {
      "cell_type": "code",
      "source": [
        "print(mean_squared_error(y_train, y_train_pred)**(0.0000001))\n",
        "print(mean_squared_error(y_test, y_pred)**(0.0000001))"
      ],
      "metadata": {
        "colab": {
          "base_uri": "https://localhost:8080/"
        },
        "id": "7CCG2h0FMZRI",
        "outputId": "c8ef0a72-3172-4d5f-b1c0-de9d6eee1c84"
      },
      "execution_count": null,
      "outputs": [
        {
          "output_type": "stream",
          "name": "stdout",
          "text": [
            "0.9999996897216388\n",
            "0.9999997332272322\n"
          ]
        }
      ]
    },
    {
      "cell_type": "markdown",
      "source": [
        "####Calculate the R-squared value of the model (test only)."
      ],
      "metadata": {
        "id": "M4UmltBKNU2O"
      }
    },
    {
      "cell_type": "code",
      "source": [
        "r2_score(y_test, y_pred)"
      ],
      "metadata": {
        "colab": {
          "base_uri": "https://localhost:8080/"
        },
        "id": "4h_6CUA7NSl1",
        "outputId": "5269031f-d45c-4253-97af-edbf0f2542e2"
      },
      "execution_count": null,
      "outputs": [
        {
          "output_type": "execute_result",
          "data": {
            "text/plain": [
              "0.6164836267661096"
            ]
          },
          "metadata": {},
          "execution_count": 261
        }
      ]
    },
    {
      "cell_type": "markdown",
      "source": [
        "####Verifying that I am getting the same result"
      ],
      "metadata": {
        "id": "4NR1cV2PkcpH"
      }
    },
    {
      "cell_type": "code",
      "source": [
        "classifier.score(X_test, y_test)"
      ],
      "metadata": {
        "colab": {
          "base_uri": "https://localhost:8080/"
        },
        "id": "r2ASKXfkjmN8",
        "outputId": "ec46434b-e1e7-4b44-b37d-fab945caf2b3"
      },
      "execution_count": null,
      "outputs": [
        {
          "output_type": "execute_result",
          "data": {
            "text/plain": [
              "0.6164836267661096"
            ]
          },
          "metadata": {},
          "execution_count": 263
        }
      ]
    },
    {
      "cell_type": "markdown",
      "source": [
        "####Splitting Data into Train/Test\n",
        "\n",
        "####Create a data frame called X of your inputs that includes columns for health, employement, acute and chronic illness."
      ],
      "metadata": {
        "id": "RISG6Od1dQg9"
      }
    },
    {
      "cell_type": "code",
      "source": [
        "X = df[['HEALTH', 'EMPLOY', 'ACUTEILL', 'CHRONILL']]\n",
        "y = df['CASES']"
      ],
      "metadata": {
        "id": "Q_3ZJjn2dRPs"
      },
      "execution_count": null,
      "outputs": []
    },
    {
      "cell_type": "code",
      "source": [
        "X_train, X_test, y_train, y_test = train_test_split(X, y, test_size=.2, random_state=0)"
      ],
      "metadata": {
        "id": "j2sdQkQLdRYW"
      },
      "execution_count": null,
      "outputs": []
    },
    {
      "cell_type": "markdown",
      "source": [
        "###Building the Pipeline\n",
        "###Create a column transformer that will MinMax scale the numerical variables"
      ],
      "metadata": {
        "id": "yGeup25ogrFb"
      }
    },
    {
      "cell_type": "code",
      "source": [
        "num_attribs = ['HEALTH', 'EMPLOY', 'ACUTEILL', 'CHRONILL']"
      ],
      "metadata": {
        "id": "grhSJuhydRbv"
      },
      "execution_count": null,
      "outputs": []
    },
    {
      "cell_type": "markdown",
      "source": [
        "###Create a pipeline that will transform the data and then run an Support Vector Machine Regression."
      ],
      "metadata": {
        "id": "D_c8SL3MP8rn"
      }
    },
    {
      "cell_type": "code",
      "source": [
        "col_transform = ColumnTransformer(transformers=[('num', MinMaxScaler(), num_attribs)], remainder='passthrough')"
      ],
      "metadata": {
        "id": "Jc7tbCSw4h5D"
      },
      "execution_count": null,
      "outputs": []
    },
    {
      "cell_type": "code",
      "source": [
        "pipeline = Pipeline([('trans', col_transform),('SVCLinear', LinearSVC(C=1, max_iter=100000)),])\n",
        "pipeline"
      ],
      "metadata": {
        "colab": {
          "base_uri": "https://localhost:8080/",
          "height": 188
        },
        "id": "3UOmCJgk4uuQ",
        "outputId": "db9915f8-a067-490a-ff34-9db52806b8a3"
      },
      "execution_count": null,
      "outputs": [
        {
          "output_type": "execute_result",
          "data": {
            "text/plain": [
              "Pipeline(steps=[('trans',\n",
              "                 ColumnTransformer(remainder='passthrough',\n",
              "                                   transformers=[('num', MinMaxScaler(),\n",
              "                                                  ['HEALTH', 'EMPLOY',\n",
              "                                                   'ACUTEILL', 'CHRONILL'])])),\n",
              "                ('SVCLinear', LinearSVC(C=1, max_iter=100000))])"
            ],
            "text/html": [
              "<style>#sk-container-id-49 {color: black;background-color: white;}#sk-container-id-49 pre{padding: 0;}#sk-container-id-49 div.sk-toggleable {background-color: white;}#sk-container-id-49 label.sk-toggleable__label {cursor: pointer;display: block;width: 100%;margin-bottom: 0;padding: 0.3em;box-sizing: border-box;text-align: center;}#sk-container-id-49 label.sk-toggleable__label-arrow:before {content: \"▸\";float: left;margin-right: 0.25em;color: #696969;}#sk-container-id-49 label.sk-toggleable__label-arrow:hover:before {color: black;}#sk-container-id-49 div.sk-estimator:hover label.sk-toggleable__label-arrow:before {color: black;}#sk-container-id-49 div.sk-toggleable__content {max-height: 0;max-width: 0;overflow: hidden;text-align: left;background-color: #f0f8ff;}#sk-container-id-49 div.sk-toggleable__content pre {margin: 0.2em;color: black;border-radius: 0.25em;background-color: #f0f8ff;}#sk-container-id-49 input.sk-toggleable__control:checked~div.sk-toggleable__content {max-height: 200px;max-width: 100%;overflow: auto;}#sk-container-id-49 input.sk-toggleable__control:checked~label.sk-toggleable__label-arrow:before {content: \"▾\";}#sk-container-id-49 div.sk-estimator input.sk-toggleable__control:checked~label.sk-toggleable__label {background-color: #d4ebff;}#sk-container-id-49 div.sk-label input.sk-toggleable__control:checked~label.sk-toggleable__label {background-color: #d4ebff;}#sk-container-id-49 input.sk-hidden--visually {border: 0;clip: rect(1px 1px 1px 1px);clip: rect(1px, 1px, 1px, 1px);height: 1px;margin: -1px;overflow: hidden;padding: 0;position: absolute;width: 1px;}#sk-container-id-49 div.sk-estimator {font-family: monospace;background-color: #f0f8ff;border: 1px dotted black;border-radius: 0.25em;box-sizing: border-box;margin-bottom: 0.5em;}#sk-container-id-49 div.sk-estimator:hover {background-color: #d4ebff;}#sk-container-id-49 div.sk-parallel-item::after {content: \"\";width: 100%;border-bottom: 1px solid gray;flex-grow: 1;}#sk-container-id-49 div.sk-label:hover label.sk-toggleable__label {background-color: #d4ebff;}#sk-container-id-49 div.sk-serial::before {content: \"\";position: absolute;border-left: 1px solid gray;box-sizing: border-box;top: 0;bottom: 0;left: 50%;z-index: 0;}#sk-container-id-49 div.sk-serial {display: flex;flex-direction: column;align-items: center;background-color: white;padding-right: 0.2em;padding-left: 0.2em;position: relative;}#sk-container-id-49 div.sk-item {position: relative;z-index: 1;}#sk-container-id-49 div.sk-parallel {display: flex;align-items: stretch;justify-content: center;background-color: white;position: relative;}#sk-container-id-49 div.sk-item::before, #sk-container-id-49 div.sk-parallel-item::before {content: \"\";position: absolute;border-left: 1px solid gray;box-sizing: border-box;top: 0;bottom: 0;left: 50%;z-index: -1;}#sk-container-id-49 div.sk-parallel-item {display: flex;flex-direction: column;z-index: 1;position: relative;background-color: white;}#sk-container-id-49 div.sk-parallel-item:first-child::after {align-self: flex-end;width: 50%;}#sk-container-id-49 div.sk-parallel-item:last-child::after {align-self: flex-start;width: 50%;}#sk-container-id-49 div.sk-parallel-item:only-child::after {width: 0;}#sk-container-id-49 div.sk-dashed-wrapped {border: 1px dashed gray;margin: 0 0.4em 0.5em 0.4em;box-sizing: border-box;padding-bottom: 0.4em;background-color: white;}#sk-container-id-49 div.sk-label label {font-family: monospace;font-weight: bold;display: inline-block;line-height: 1.2em;}#sk-container-id-49 div.sk-label-container {text-align: center;}#sk-container-id-49 div.sk-container {/* jupyter's `normalize.less` sets `[hidden] { display: none; }` but bootstrap.min.css set `[hidden] { display: none !important; }` so we also need the `!important` here to be able to override the default hidden behavior on the sphinx rendered scikit-learn.org. See: https://github.com/scikit-learn/scikit-learn/issues/21755 */display: inline-block !important;position: relative;}#sk-container-id-49 div.sk-text-repr-fallback {display: none;}</style><div id=\"sk-container-id-49\" class=\"sk-top-container\"><div class=\"sk-text-repr-fallback\"><pre>Pipeline(steps=[(&#x27;trans&#x27;,\n",
              "                 ColumnTransformer(remainder=&#x27;passthrough&#x27;,\n",
              "                                   transformers=[(&#x27;num&#x27;, MinMaxScaler(),\n",
              "                                                  [&#x27;HEALTH&#x27;, &#x27;EMPLOY&#x27;,\n",
              "                                                   &#x27;ACUTEILL&#x27;, &#x27;CHRONILL&#x27;])])),\n",
              "                (&#x27;SVCLinear&#x27;, LinearSVC(C=1, max_iter=100000))])</pre><b>In a Jupyter environment, please rerun this cell to show the HTML representation or trust the notebook. <br />On GitHub, the HTML representation is unable to render, please try loading this page with nbviewer.org.</b></div><div class=\"sk-container\" hidden><div class=\"sk-item sk-dashed-wrapped\"><div class=\"sk-label-container\"><div class=\"sk-label sk-toggleable\"><input class=\"sk-toggleable__control sk-hidden--visually\" id=\"sk-estimator-id-248\" type=\"checkbox\" ><label for=\"sk-estimator-id-248\" class=\"sk-toggleable__label sk-toggleable__label-arrow\">Pipeline</label><div class=\"sk-toggleable__content\"><pre>Pipeline(steps=[(&#x27;trans&#x27;,\n",
              "                 ColumnTransformer(remainder=&#x27;passthrough&#x27;,\n",
              "                                   transformers=[(&#x27;num&#x27;, MinMaxScaler(),\n",
              "                                                  [&#x27;HEALTH&#x27;, &#x27;EMPLOY&#x27;,\n",
              "                                                   &#x27;ACUTEILL&#x27;, &#x27;CHRONILL&#x27;])])),\n",
              "                (&#x27;SVCLinear&#x27;, LinearSVC(C=1, max_iter=100000))])</pre></div></div></div><div class=\"sk-serial\"><div class=\"sk-item sk-dashed-wrapped\"><div class=\"sk-label-container\"><div class=\"sk-label sk-toggleable\"><input class=\"sk-toggleable__control sk-hidden--visually\" id=\"sk-estimator-id-249\" type=\"checkbox\" ><label for=\"sk-estimator-id-249\" class=\"sk-toggleable__label sk-toggleable__label-arrow\">trans: ColumnTransformer</label><div class=\"sk-toggleable__content\"><pre>ColumnTransformer(remainder=&#x27;passthrough&#x27;,\n",
              "                  transformers=[(&#x27;num&#x27;, MinMaxScaler(),\n",
              "                                 [&#x27;HEALTH&#x27;, &#x27;EMPLOY&#x27;, &#x27;ACUTEILL&#x27;, &#x27;CHRONILL&#x27;])])</pre></div></div></div><div class=\"sk-parallel\"><div class=\"sk-parallel-item\"><div class=\"sk-item\"><div class=\"sk-label-container\"><div class=\"sk-label sk-toggleable\"><input class=\"sk-toggleable__control sk-hidden--visually\" id=\"sk-estimator-id-250\" type=\"checkbox\" ><label for=\"sk-estimator-id-250\" class=\"sk-toggleable__label sk-toggleable__label-arrow\">num</label><div class=\"sk-toggleable__content\"><pre>[&#x27;HEALTH&#x27;, &#x27;EMPLOY&#x27;, &#x27;ACUTEILL&#x27;, &#x27;CHRONILL&#x27;]</pre></div></div></div><div class=\"sk-serial\"><div class=\"sk-item\"><div class=\"sk-estimator sk-toggleable\"><input class=\"sk-toggleable__control sk-hidden--visually\" id=\"sk-estimator-id-251\" type=\"checkbox\" ><label for=\"sk-estimator-id-251\" class=\"sk-toggleable__label sk-toggleable__label-arrow\">MinMaxScaler</label><div class=\"sk-toggleable__content\"><pre>MinMaxScaler()</pre></div></div></div></div></div></div><div class=\"sk-parallel-item\"><div class=\"sk-item\"><div class=\"sk-label-container\"><div class=\"sk-label sk-toggleable\"><input class=\"sk-toggleable__control sk-hidden--visually\" id=\"sk-estimator-id-252\" type=\"checkbox\" ><label for=\"sk-estimator-id-252\" class=\"sk-toggleable__label sk-toggleable__label-arrow\">remainder</label><div class=\"sk-toggleable__content\"><pre></pre></div></div></div><div class=\"sk-serial\"><div class=\"sk-item\"><div class=\"sk-estimator sk-toggleable\"><input class=\"sk-toggleable__control sk-hidden--visually\" id=\"sk-estimator-id-253\" type=\"checkbox\" ><label for=\"sk-estimator-id-253\" class=\"sk-toggleable__label sk-toggleable__label-arrow\">passthrough</label><div class=\"sk-toggleable__content\"><pre>passthrough</pre></div></div></div></div></div></div></div></div><div class=\"sk-item\"><div class=\"sk-estimator sk-toggleable\"><input class=\"sk-toggleable__control sk-hidden--visually\" id=\"sk-estimator-id-254\" type=\"checkbox\" ><label for=\"sk-estimator-id-254\" class=\"sk-toggleable__label sk-toggleable__label-arrow\">LinearSVC</label><div class=\"sk-toggleable__content\"><pre>LinearSVC(C=1, max_iter=100000)</pre></div></div></div></div></div></div></div>"
            ]
          },
          "metadata": {},
          "execution_count": 424
        }
      ]
    },
    {
      "cell_type": "markdown",
      "source": [
        "###Executing the Model\n",
        "###Run the pipeline to fit the Support Vector Machine Regression."
      ],
      "metadata": {
        "id": "G15mntZii7zX"
      }
    },
    {
      "cell_type": "code",
      "source": [
        "pipeline.fit(X_train,np.ravel(y_train))"
      ],
      "metadata": {
        "colab": {
          "base_uri": "https://localhost:8080/",
          "height": 188
        },
        "id": "rDDKVApj5Ik7",
        "outputId": "3b51fe64-12e4-485f-cdaf-69d254bdcfab"
      },
      "execution_count": null,
      "outputs": [
        {
          "output_type": "execute_result",
          "data": {
            "text/plain": [
              "Pipeline(steps=[('trans',\n",
              "                 ColumnTransformer(remainder='passthrough',\n",
              "                                   transformers=[('num', MinMaxScaler(),\n",
              "                                                  ['HEALTH', 'EMPLOY',\n",
              "                                                   'ACUTEILL', 'CHRONILL'])])),\n",
              "                ('SVCLinear', LinearSVC(C=1, max_iter=100000))])"
            ],
            "text/html": [
              "<style>#sk-container-id-50 {color: black;background-color: white;}#sk-container-id-50 pre{padding: 0;}#sk-container-id-50 div.sk-toggleable {background-color: white;}#sk-container-id-50 label.sk-toggleable__label {cursor: pointer;display: block;width: 100%;margin-bottom: 0;padding: 0.3em;box-sizing: border-box;text-align: center;}#sk-container-id-50 label.sk-toggleable__label-arrow:before {content: \"▸\";float: left;margin-right: 0.25em;color: #696969;}#sk-container-id-50 label.sk-toggleable__label-arrow:hover:before {color: black;}#sk-container-id-50 div.sk-estimator:hover label.sk-toggleable__label-arrow:before {color: black;}#sk-container-id-50 div.sk-toggleable__content {max-height: 0;max-width: 0;overflow: hidden;text-align: left;background-color: #f0f8ff;}#sk-container-id-50 div.sk-toggleable__content pre {margin: 0.2em;color: black;border-radius: 0.25em;background-color: #f0f8ff;}#sk-container-id-50 input.sk-toggleable__control:checked~div.sk-toggleable__content {max-height: 200px;max-width: 100%;overflow: auto;}#sk-container-id-50 input.sk-toggleable__control:checked~label.sk-toggleable__label-arrow:before {content: \"▾\";}#sk-container-id-50 div.sk-estimator input.sk-toggleable__control:checked~label.sk-toggleable__label {background-color: #d4ebff;}#sk-container-id-50 div.sk-label input.sk-toggleable__control:checked~label.sk-toggleable__label {background-color: #d4ebff;}#sk-container-id-50 input.sk-hidden--visually {border: 0;clip: rect(1px 1px 1px 1px);clip: rect(1px, 1px, 1px, 1px);height: 1px;margin: -1px;overflow: hidden;padding: 0;position: absolute;width: 1px;}#sk-container-id-50 div.sk-estimator {font-family: monospace;background-color: #f0f8ff;border: 1px dotted black;border-radius: 0.25em;box-sizing: border-box;margin-bottom: 0.5em;}#sk-container-id-50 div.sk-estimator:hover {background-color: #d4ebff;}#sk-container-id-50 div.sk-parallel-item::after {content: \"\";width: 100%;border-bottom: 1px solid gray;flex-grow: 1;}#sk-container-id-50 div.sk-label:hover label.sk-toggleable__label {background-color: #d4ebff;}#sk-container-id-50 div.sk-serial::before {content: \"\";position: absolute;border-left: 1px solid gray;box-sizing: border-box;top: 0;bottom: 0;left: 50%;z-index: 0;}#sk-container-id-50 div.sk-serial {display: flex;flex-direction: column;align-items: center;background-color: white;padding-right: 0.2em;padding-left: 0.2em;position: relative;}#sk-container-id-50 div.sk-item {position: relative;z-index: 1;}#sk-container-id-50 div.sk-parallel {display: flex;align-items: stretch;justify-content: center;background-color: white;position: relative;}#sk-container-id-50 div.sk-item::before, #sk-container-id-50 div.sk-parallel-item::before {content: \"\";position: absolute;border-left: 1px solid gray;box-sizing: border-box;top: 0;bottom: 0;left: 50%;z-index: -1;}#sk-container-id-50 div.sk-parallel-item {display: flex;flex-direction: column;z-index: 1;position: relative;background-color: white;}#sk-container-id-50 div.sk-parallel-item:first-child::after {align-self: flex-end;width: 50%;}#sk-container-id-50 div.sk-parallel-item:last-child::after {align-self: flex-start;width: 50%;}#sk-container-id-50 div.sk-parallel-item:only-child::after {width: 0;}#sk-container-id-50 div.sk-dashed-wrapped {border: 1px dashed gray;margin: 0 0.4em 0.5em 0.4em;box-sizing: border-box;padding-bottom: 0.4em;background-color: white;}#sk-container-id-50 div.sk-label label {font-family: monospace;font-weight: bold;display: inline-block;line-height: 1.2em;}#sk-container-id-50 div.sk-label-container {text-align: center;}#sk-container-id-50 div.sk-container {/* jupyter's `normalize.less` sets `[hidden] { display: none; }` but bootstrap.min.css set `[hidden] { display: none !important; }` so we also need the `!important` here to be able to override the default hidden behavior on the sphinx rendered scikit-learn.org. See: https://github.com/scikit-learn/scikit-learn/issues/21755 */display: inline-block !important;position: relative;}#sk-container-id-50 div.sk-text-repr-fallback {display: none;}</style><div id=\"sk-container-id-50\" class=\"sk-top-container\"><div class=\"sk-text-repr-fallback\"><pre>Pipeline(steps=[(&#x27;trans&#x27;,\n",
              "                 ColumnTransformer(remainder=&#x27;passthrough&#x27;,\n",
              "                                   transformers=[(&#x27;num&#x27;, MinMaxScaler(),\n",
              "                                                  [&#x27;HEALTH&#x27;, &#x27;EMPLOY&#x27;,\n",
              "                                                   &#x27;ACUTEILL&#x27;, &#x27;CHRONILL&#x27;])])),\n",
              "                (&#x27;SVCLinear&#x27;, LinearSVC(C=1, max_iter=100000))])</pre><b>In a Jupyter environment, please rerun this cell to show the HTML representation or trust the notebook. <br />On GitHub, the HTML representation is unable to render, please try loading this page with nbviewer.org.</b></div><div class=\"sk-container\" hidden><div class=\"sk-item sk-dashed-wrapped\"><div class=\"sk-label-container\"><div class=\"sk-label sk-toggleable\"><input class=\"sk-toggleable__control sk-hidden--visually\" id=\"sk-estimator-id-255\" type=\"checkbox\" ><label for=\"sk-estimator-id-255\" class=\"sk-toggleable__label sk-toggleable__label-arrow\">Pipeline</label><div class=\"sk-toggleable__content\"><pre>Pipeline(steps=[(&#x27;trans&#x27;,\n",
              "                 ColumnTransformer(remainder=&#x27;passthrough&#x27;,\n",
              "                                   transformers=[(&#x27;num&#x27;, MinMaxScaler(),\n",
              "                                                  [&#x27;HEALTH&#x27;, &#x27;EMPLOY&#x27;,\n",
              "                                                   &#x27;ACUTEILL&#x27;, &#x27;CHRONILL&#x27;])])),\n",
              "                (&#x27;SVCLinear&#x27;, LinearSVC(C=1, max_iter=100000))])</pre></div></div></div><div class=\"sk-serial\"><div class=\"sk-item sk-dashed-wrapped\"><div class=\"sk-label-container\"><div class=\"sk-label sk-toggleable\"><input class=\"sk-toggleable__control sk-hidden--visually\" id=\"sk-estimator-id-256\" type=\"checkbox\" ><label for=\"sk-estimator-id-256\" class=\"sk-toggleable__label sk-toggleable__label-arrow\">trans: ColumnTransformer</label><div class=\"sk-toggleable__content\"><pre>ColumnTransformer(remainder=&#x27;passthrough&#x27;,\n",
              "                  transformers=[(&#x27;num&#x27;, MinMaxScaler(),\n",
              "                                 [&#x27;HEALTH&#x27;, &#x27;EMPLOY&#x27;, &#x27;ACUTEILL&#x27;, &#x27;CHRONILL&#x27;])])</pre></div></div></div><div class=\"sk-parallel\"><div class=\"sk-parallel-item\"><div class=\"sk-item\"><div class=\"sk-label-container\"><div class=\"sk-label sk-toggleable\"><input class=\"sk-toggleable__control sk-hidden--visually\" id=\"sk-estimator-id-257\" type=\"checkbox\" ><label for=\"sk-estimator-id-257\" class=\"sk-toggleable__label sk-toggleable__label-arrow\">num</label><div class=\"sk-toggleable__content\"><pre>[&#x27;HEALTH&#x27;, &#x27;EMPLOY&#x27;, &#x27;ACUTEILL&#x27;, &#x27;CHRONILL&#x27;]</pre></div></div></div><div class=\"sk-serial\"><div class=\"sk-item\"><div class=\"sk-estimator sk-toggleable\"><input class=\"sk-toggleable__control sk-hidden--visually\" id=\"sk-estimator-id-258\" type=\"checkbox\" ><label for=\"sk-estimator-id-258\" class=\"sk-toggleable__label sk-toggleable__label-arrow\">MinMaxScaler</label><div class=\"sk-toggleable__content\"><pre>MinMaxScaler()</pre></div></div></div></div></div></div><div class=\"sk-parallel-item\"><div class=\"sk-item\"><div class=\"sk-label-container\"><div class=\"sk-label sk-toggleable\"><input class=\"sk-toggleable__control sk-hidden--visually\" id=\"sk-estimator-id-259\" type=\"checkbox\" ><label for=\"sk-estimator-id-259\" class=\"sk-toggleable__label sk-toggleable__label-arrow\">remainder</label><div class=\"sk-toggleable__content\"><pre>[]</pre></div></div></div><div class=\"sk-serial\"><div class=\"sk-item\"><div class=\"sk-estimator sk-toggleable\"><input class=\"sk-toggleable__control sk-hidden--visually\" id=\"sk-estimator-id-260\" type=\"checkbox\" ><label for=\"sk-estimator-id-260\" class=\"sk-toggleable__label sk-toggleable__label-arrow\">passthrough</label><div class=\"sk-toggleable__content\"><pre>passthrough</pre></div></div></div></div></div></div></div></div><div class=\"sk-item\"><div class=\"sk-estimator sk-toggleable\"><input class=\"sk-toggleable__control sk-hidden--visually\" id=\"sk-estimator-id-261\" type=\"checkbox\" ><label for=\"sk-estimator-id-261\" class=\"sk-toggleable__label sk-toggleable__label-arrow\">LinearSVC</label><div class=\"sk-toggleable__content\"><pre>LinearSVC(C=1, max_iter=100000)</pre></div></div></div></div></div></div></div>"
            ]
          },
          "metadata": {},
          "execution_count": 425
        }
      ]
    },
    {
      "cell_type": "markdown",
      "source": [
        "###Run the pipeline to predict y values from the test data set and save them in a variable called y_pred."
      ],
      "metadata": {
        "id": "4lIh7dYpf6hq"
      }
    },
    {
      "cell_type": "code",
      "source": [
        "y_pred = pipeline.predict(X_test)"
      ],
      "metadata": {
        "id": "Ey9E3TIi5LcN"
      },
      "execution_count": null,
      "outputs": []
    },
    {
      "cell_type": "markdown",
      "source": [
        "###Call the plot_cm function to generate the confusion matrix."
      ],
      "metadata": {
        "id": "E7sGzCDm5qRn"
      }
    },
    {
      "cell_type": "code",
      "source": [
        "plot_cm(y_test,y_pred)"
      ],
      "metadata": {
        "colab": {
          "base_uri": "https://localhost:8080/"
        },
        "id": "V1X18aMv5RLq",
        "outputId": "3bdbbea8-e06b-41e2-9bae-d07a4dab0559"
      },
      "execution_count": null,
      "outputs": [
        {
          "output_type": "execute_result",
          "data": {
            "text/plain": [
              "array([[45,  0],\n",
              "       [14,  0]])"
            ]
          },
          "metadata": {},
          "execution_count": 427
        }
      ]
    },
    {
      "cell_type": "markdown",
      "source": [
        "####Using Gridsearch"
      ],
      "metadata": {
        "id": "vcweM-8HqnYK"
      }
    },
    {
      "cell_type": "markdown",
      "source": [
        "####Initialize"
      ],
      "metadata": {
        "id": "llSrdOhJ2gSj"
      }
    },
    {
      "cell_type": "code",
      "source": [
        "svr =LinearSVC()\n",
        "sc = StandardScaler()\n",
        "gd = GridSearchCV(svr, parameters)"
      ],
      "metadata": {
        "id": "Hfm6FSGU2PUm"
      },
      "execution_count": null,
      "outputs": []
    },
    {
      "cell_type": "code",
      "source": [
        "X_train_scale = sc.fit_transform(X_train)"
      ],
      "metadata": {
        "id": "0tT4n2ZM2ybs"
      },
      "execution_count": null,
      "outputs": []
    },
    {
      "cell_type": "code",
      "source": [
        "X_train_scale"
      ],
      "metadata": {
        "colab": {
          "base_uri": "https://localhost:8080/"
        },
        "id": "r0hjm_w13Dvw",
        "outputId": "beb75010-12fb-4c95-9978-380f531d6129"
      },
      "execution_count": null,
      "outputs": [
        {
          "output_type": "execute_result",
          "data": {
            "text/plain": [
              "array([[-0.91577499, -0.03358092,  1.60018938,  0.97064348],\n",
              "       [-0.91577499, -0.69120728, -0.62492603,  0.97064348],\n",
              "       [-0.91577499, -0.69120728, -0.62492603,  0.97064348],\n",
              "       [-0.91577499, -0.03358092,  1.60018938, -1.03024439],\n",
              "       [ 1.58663342, -0.03358092, -0.62492603,  0.97064348],\n",
              "       [ 0.33542921, -0.69120728, -0.62492603,  0.97064348],\n",
              "       [ 1.58663342,  1.28167181, -0.62492603,  0.97064348],\n",
              "       [ 1.58663342,  1.28167181, -0.62492603,  0.97064348],\n",
              "       [ 1.58663342,  1.28167181, -0.62492603,  0.97064348],\n",
              "       [ 0.33542921, -0.69120728, -0.62492603,  0.97064348],\n",
              "       [ 1.58663342, -0.69120728, -0.62492603,  0.97064348],\n",
              "       [ 1.58663342, -0.69120728, -0.62492603,  0.97064348],\n",
              "       [ 0.33542921, -0.69120728,  1.60018938,  0.97064348],\n",
              "       [ 0.33542921, -0.03358092, -0.62492603, -1.03024439],\n",
              "       [-0.91577499, -0.03358092, -0.62492603, -1.03024439],\n",
              "       [-0.91577499, -0.69120728, -0.62492603, -1.03024439],\n",
              "       [ 0.33542921, -0.69120728, -0.62492603, -1.03024439],\n",
              "       [-0.91577499, -0.69120728, -0.62492603, -1.03024439],\n",
              "       [ 0.33542921,  1.93929817, -0.62492603, -1.03024439],\n",
              "       [-0.91577499, -0.69120728,  1.60018938, -1.03024439],\n",
              "       [-0.91577499, -0.69120728,  1.60018938,  0.97064348],\n",
              "       [ 0.33542921, -0.69120728,  1.60018938,  0.97064348],\n",
              "       [-0.91577499, -0.69120728,  1.60018938,  0.97064348],\n",
              "       [-0.91577499,  1.28167181, -0.62492603,  0.97064348],\n",
              "       [-0.91577499, -0.69120728, -0.62492603,  0.97064348],\n",
              "       [-0.91577499, -0.69120728,  1.60018938,  0.97064348],\n",
              "       [ 0.33542921,  1.28167181, -0.62492603, -1.03024439],\n",
              "       [ 0.33542921, -0.69120728, -0.62492603,  0.97064348],\n",
              "       [ 1.58663342,  1.28167181, -0.62492603,  0.97064348],\n",
              "       [-0.91577499, -0.69120728,  1.60018938,  0.97064348],\n",
              "       [ 0.33542921, -0.69120728,  1.60018938, -1.03024439],\n",
              "       [-0.91577499, -0.69120728, -0.62492603, -1.03024439],\n",
              "       [-0.91577499, -0.03358092,  1.60018938,  0.97064348],\n",
              "       [-0.91577499,  0.62404544, -0.62492603, -1.03024439],\n",
              "       [-0.91577499,  2.59692453, -0.62492603,  0.97064348],\n",
              "       [-0.91577499, -0.69120728, -0.62492603, -1.03024439],\n",
              "       [-0.91577499, -0.69120728, -0.62492603,  0.97064348],\n",
              "       [ 1.58663342,  1.28167181, -0.62492603,  0.97064348],\n",
              "       [-0.91577499, -0.69120728, -0.62492603,  0.97064348],\n",
              "       [ 0.33542921, -0.69120728, -0.62492603,  0.97064348],\n",
              "       [-0.91577499, -0.03358092, -0.62492603,  0.97064348],\n",
              "       [-0.91577499,  1.93929817, -0.62492603, -1.03024439],\n",
              "       [ 0.33542921, -0.03358092, -0.62492603, -1.03024439],\n",
              "       [-0.91577499, -0.69120728, -0.62492603, -1.03024439],\n",
              "       [ 0.33542921,  1.28167181,  1.60018938, -1.03024439],\n",
              "       [ 0.33542921, -0.03358092,  1.60018938,  0.97064348],\n",
              "       [ 0.33542921, -0.69120728, -0.62492603, -1.03024439],\n",
              "       [ 0.33542921, -0.69120728,  1.60018938,  0.97064348],\n",
              "       [ 0.33542921, -0.69120728, -0.62492603,  0.97064348],\n",
              "       [ 0.33542921, -0.69120728, -0.62492603,  0.97064348],\n",
              "       [-0.91577499, -0.69120728,  1.60018938, -1.03024439],\n",
              "       [-0.91577499, -0.69120728, -0.62492603, -1.03024439],\n",
              "       [ 0.33542921,  0.62404544,  1.60018938,  0.97064348],\n",
              "       [ 0.33542921, -0.69120728, -0.62492603,  0.97064348],\n",
              "       [-0.91577499,  1.93929817, -0.62492603, -1.03024439],\n",
              "       [-0.91577499, -0.69120728, -0.62492603, -1.03024439],\n",
              "       [ 2.83783762,  1.28167181, -0.62492603,  0.97064348],\n",
              "       [ 0.33542921, -0.03358092, -0.62492603,  0.97064348],\n",
              "       [-0.91577499, -0.69120728, -0.62492603, -1.03024439],\n",
              "       [-0.91577499, -0.69120728,  1.60018938, -1.03024439],\n",
              "       [ 1.58663342, -0.69120728,  1.60018938,  0.97064348],\n",
              "       [-0.91577499, -0.69120728,  1.60018938,  0.97064348],\n",
              "       [ 0.33542921,  1.28167181, -0.62492603,  0.97064348],\n",
              "       [ 0.33542921, -0.03358092,  1.60018938, -1.03024439],\n",
              "       [ 0.33542921, -0.69120728, -0.62492603, -1.03024439],\n",
              "       [-0.91577499, -0.69120728, -0.62492603, -1.03024439],\n",
              "       [ 0.33542921, -0.03358092, -0.62492603, -1.03024439],\n",
              "       [ 0.33542921, -0.03358092, -0.62492603, -1.03024439],\n",
              "       [ 0.33542921,  1.93929817,  1.60018938, -1.03024439],\n",
              "       [-0.91577499, -0.69120728,  1.60018938,  0.97064348],\n",
              "       [ 0.33542921, -0.69120728, -0.62492603,  0.97064348],\n",
              "       [-0.91577499, -0.69120728,  1.60018938, -1.03024439],\n",
              "       [ 2.83783762, -0.69120728, -0.62492603,  0.97064348],\n",
              "       [-0.91577499, -0.69120728, -0.62492603, -1.03024439],\n",
              "       [-0.91577499, -0.69120728,  1.60018938, -1.03024439],\n",
              "       [-0.91577499,  1.28167181,  1.60018938, -1.03024439],\n",
              "       [ 0.33542921, -0.69120728,  1.60018938,  0.97064348],\n",
              "       [ 0.33542921, -0.69120728, -0.62492603,  0.97064348],\n",
              "       [-0.91577499,  0.62404544, -0.62492603,  0.97064348],\n",
              "       [ 0.33542921, -0.03358092,  1.60018938, -1.03024439],\n",
              "       [ 0.33542921,  1.28167181, -0.62492603,  0.97064348],\n",
              "       [ 1.58663342, -0.69120728, -0.62492603,  0.97064348],\n",
              "       [ 0.33542921, -0.69120728,  1.60018938,  0.97064348],\n",
              "       [ 0.33542921,  1.28167181, -0.62492603,  0.97064348],\n",
              "       [-0.91577499, -0.69120728, -0.62492603, -1.03024439],\n",
              "       [-0.91577499,  1.93929817, -0.62492603,  0.97064348],\n",
              "       [ 0.33542921,  1.28167181, -0.62492603, -1.03024439],\n",
              "       [ 0.33542921, -0.69120728, -0.62492603, -1.03024439],\n",
              "       [ 2.83783762, -0.03358092, -0.62492603,  0.97064348],\n",
              "       [-0.91577499, -0.69120728, -0.62492603, -1.03024439],\n",
              "       [ 2.83783762,  1.28167181, -0.62492603,  0.97064348],\n",
              "       [ 0.33542921, -0.03358092, -0.62492603, -1.03024439],\n",
              "       [ 0.33542921, -0.69120728, -0.62492603, -1.03024439],\n",
              "       [-0.91577499, -0.03358092, -0.62492603, -1.03024439],\n",
              "       [-0.91577499, -0.69120728, -0.62492603, -1.03024439],\n",
              "       [-0.91577499, -0.69120728, -0.62492603, -1.03024439],\n",
              "       [-0.91577499, -0.03358092, -0.62492603, -1.03024439],\n",
              "       [ 0.33542921,  0.62404544, -0.62492603, -1.03024439],\n",
              "       [ 0.33542921, -0.69120728, -0.62492603, -1.03024439],\n",
              "       [ 2.83783762,  1.93929817,  1.60018938,  0.97064348],\n",
              "       [ 0.33542921, -0.69120728, -0.62492603, -1.03024439],\n",
              "       [-0.91577499, -0.69120728, -0.62492603, -1.03024439],\n",
              "       [ 0.33542921, -0.69120728,  1.60018938,  0.97064348],\n",
              "       [ 0.33542921,  1.28167181, -0.62492603,  0.97064348],\n",
              "       [-0.91577499, -0.69120728, -0.62492603, -1.03024439],\n",
              "       [ 2.83783762,  1.93929817, -0.62492603,  0.97064348],\n",
              "       [ 1.58663342,  0.62404544,  1.60018938,  0.97064348],\n",
              "       [-0.91577499, -0.69120728, -0.62492603, -1.03024439],\n",
              "       [-0.91577499, -0.69120728, -0.62492603,  0.97064348],\n",
              "       [ 1.58663342, -0.69120728, -0.62492603,  0.97064348],\n",
              "       [-0.91577499, -0.69120728, -0.62492603,  0.97064348],\n",
              "       [-0.91577499, -0.69120728,  1.60018938,  0.97064348],\n",
              "       [ 1.58663342, -0.69120728,  1.60018938,  0.97064348],\n",
              "       [-0.91577499, -0.69120728,  1.60018938,  0.97064348],\n",
              "       [ 1.58663342, -0.03358092, -0.62492603,  0.97064348],\n",
              "       [-0.91577499, -0.69120728,  1.60018938, -1.03024439],\n",
              "       [-0.91577499, -0.69120728, -0.62492603,  0.97064348],\n",
              "       [ 0.33542921,  1.28167181, -0.62492603, -1.03024439],\n",
              "       [ 0.33542921,  1.93929817, -0.62492603, -1.03024439],\n",
              "       [ 0.33542921, -0.69120728,  1.60018938, -1.03024439],\n",
              "       [ 0.33542921, -0.69120728, -0.62492603,  0.97064348],\n",
              "       [-0.91577499, -0.69120728, -0.62492603,  0.97064348],\n",
              "       [ 0.33542921,  1.28167181, -0.62492603, -1.03024439],\n",
              "       [-0.91577499, -0.69120728, -0.62492603, -1.03024439],\n",
              "       [ 0.33542921,  1.93929817, -0.62492603, -1.03024439],\n",
              "       [ 0.33542921, -0.69120728, -0.62492603,  0.97064348],\n",
              "       [-0.91577499, -0.03358092, -0.62492603, -1.03024439],\n",
              "       [ 0.33542921, -0.69120728,  1.60018938,  0.97064348],\n",
              "       [-0.91577499, -0.69120728, -0.62492603, -1.03024439],\n",
              "       [ 0.33542921,  1.93929817, -0.62492603,  0.97064348],\n",
              "       [ 0.33542921,  1.28167181, -0.62492603,  0.97064348],\n",
              "       [ 0.33542921, -0.03358092, -0.62492603, -1.03024439],\n",
              "       [ 0.33542921,  1.28167181, -0.62492603,  0.97064348],\n",
              "       [-0.91577499, -0.03358092, -0.62492603, -1.03024439],\n",
              "       [-0.91577499, -0.69120728, -0.62492603, -1.03024439],\n",
              "       [ 0.33542921,  1.28167181,  1.60018938,  0.97064348],\n",
              "       [ 1.58663342,  3.2545509 , -0.62492603,  0.97064348],\n",
              "       [-0.91577499, -0.69120728, -0.62492603,  0.97064348],\n",
              "       [-0.91577499, -0.69120728, -0.62492603, -1.03024439],\n",
              "       [ 0.33542921, -0.69120728, -0.62492603,  0.97064348],\n",
              "       [-0.91577499, -0.69120728,  1.60018938,  0.97064348],\n",
              "       [ 1.58663342, -0.69120728, -0.62492603,  0.97064348],\n",
              "       [ 1.58663342,  1.93929817, -0.62492603,  0.97064348],\n",
              "       [ 0.33542921, -0.69120728, -0.62492603, -1.03024439],\n",
              "       [ 0.33542921,  1.93929817, -0.62492603,  0.97064348],\n",
              "       [ 0.33542921, -0.03358092, -0.62492603, -1.03024439],\n",
              "       [ 0.33542921, -0.69120728, -0.62492603, -1.03024439],\n",
              "       [-0.91577499, -0.69120728, -0.62492603,  0.97064348],\n",
              "       [-0.91577499, -0.69120728, -0.62492603,  0.97064348],\n",
              "       [ 0.33542921, -0.03358092, -0.62492603,  0.97064348],\n",
              "       [ 0.33542921,  0.62404544, -0.62492603, -1.03024439],\n",
              "       [-0.91577499, -0.69120728,  1.60018938,  0.97064348],\n",
              "       [-0.91577499, -0.69120728, -0.62492603, -1.03024439],\n",
              "       [ 1.58663342,  1.93929817,  1.60018938,  0.97064348],\n",
              "       [ 2.83783762, -0.69120728,  1.60018938,  0.97064348],\n",
              "       [-0.91577499, -0.03358092,  1.60018938, -1.03024439],\n",
              "       [ 0.33542921, -0.69120728, -0.62492603,  0.97064348],\n",
              "       [-0.91577499, -0.69120728,  1.60018938, -1.03024439],\n",
              "       [ 0.33542921,  1.28167181, -0.62492603,  0.97064348],\n",
              "       [ 0.33542921, -0.69120728,  1.60018938,  0.97064348],\n",
              "       [ 0.33542921, -0.69120728, -0.62492603, -1.03024439],\n",
              "       [-0.91577499,  0.62404544, -0.62492603, -1.03024439],\n",
              "       [-0.91577499, -0.69120728,  1.60018938,  0.97064348],\n",
              "       [ 0.33542921, -0.03358092, -0.62492603, -1.03024439],\n",
              "       [-0.91577499, -0.69120728, -0.62492603, -1.03024439],\n",
              "       [ 0.33542921,  1.28167181, -0.62492603,  0.97064348],\n",
              "       [-0.91577499, -0.69120728,  1.60018938, -1.03024439],\n",
              "       [ 0.33542921, -0.03358092,  1.60018938,  0.97064348],\n",
              "       [ 0.33542921,  1.93929817, -0.62492603, -1.03024439],\n",
              "       [ 0.33542921, -0.69120728, -0.62492603,  0.97064348],\n",
              "       [-0.91577499, -0.69120728, -0.62492603, -1.03024439],\n",
              "       [ 1.58663342,  1.93929817, -0.62492603, -1.03024439],\n",
              "       [-0.91577499,  1.28167181, -0.62492603,  0.97064348],\n",
              "       [-0.91577499, -0.69120728, -0.62492603, -1.03024439],\n",
              "       [-0.91577499, -0.69120728, -0.62492603, -1.03024439],\n",
              "       [-0.91577499, -0.69120728, -0.62492603,  0.97064348],\n",
              "       [ 1.58663342, -0.69120728,  1.60018938,  0.97064348],\n",
              "       [-0.91577499, -0.03358092, -0.62492603, -1.03024439],\n",
              "       [-0.91577499, -0.69120728, -0.62492603, -1.03024439],\n",
              "       [-0.91577499, -0.69120728,  1.60018938, -1.03024439],\n",
              "       [ 0.33542921, -0.69120728, -0.62492603, -1.03024439],\n",
              "       [-0.91577499,  1.28167181, -0.62492603,  0.97064348],\n",
              "       [-0.91577499,  1.93929817, -0.62492603, -1.03024439],\n",
              "       [ 1.58663342,  0.62404544,  1.60018938,  0.97064348],\n",
              "       [-0.91577499, -0.03358092, -0.62492603, -1.03024439],\n",
              "       [ 0.33542921, -0.69120728, -0.62492603, -1.03024439],\n",
              "       [-0.91577499, -0.69120728, -0.62492603,  0.97064348],\n",
              "       [ 1.58663342,  1.28167181, -0.62492603,  0.97064348],\n",
              "       [-0.91577499, -0.69120728, -0.62492603, -1.03024439],\n",
              "       [ 0.33542921, -0.69120728, -0.62492603,  0.97064348],\n",
              "       [ 0.33542921, -0.69120728,  1.60018938,  0.97064348],\n",
              "       [-0.91577499, -0.03358092, -0.62492603, -1.03024439],\n",
              "       [ 0.33542921, -0.03358092, -0.62492603, -1.03024439],\n",
              "       [-0.91577499, -0.69120728, -0.62492603, -1.03024439],\n",
              "       [ 0.33542921, -0.69120728, -0.62492603, -1.03024439],\n",
              "       [ 0.33542921, -0.69120728, -0.62492603, -1.03024439],\n",
              "       [ 0.33542921, -0.69120728,  1.60018938,  0.97064348],\n",
              "       [ 0.33542921, -0.69120728, -0.62492603, -1.03024439],\n",
              "       [ 0.33542921, -0.69120728, -0.62492603,  0.97064348],\n",
              "       [ 0.33542921,  1.93929817, -0.62492603,  0.97064348],\n",
              "       [ 0.33542921, -0.69120728, -0.62492603,  0.97064348],\n",
              "       [ 0.33542921, -0.69120728,  1.60018938, -1.03024439],\n",
              "       [ 0.33542921, -0.69120728,  1.60018938,  0.97064348],\n",
              "       [ 2.83783762,  1.28167181, -0.62492603,  0.97064348],\n",
              "       [-0.91577499, -0.69120728,  1.60018938,  0.97064348],\n",
              "       [-0.91577499, -0.69120728, -0.62492603, -1.03024439],\n",
              "       [-0.91577499, -0.69120728,  1.60018938, -1.03024439],\n",
              "       [-0.91577499, -0.69120728,  1.60018938, -1.03024439],\n",
              "       [ 1.58663342, -0.03358092, -0.62492603,  0.97064348],\n",
              "       [-0.91577499, -0.69120728, -0.62492603,  0.97064348],\n",
              "       [-0.91577499,  1.93929817, -0.62492603, -1.03024439],\n",
              "       [-0.91577499, -0.69120728,  1.60018938,  0.97064348],\n",
              "       [-0.91577499, -0.69120728, -0.62492603,  0.97064348],\n",
              "       [ 1.58663342, -0.69120728, -0.62492603, -1.03024439],\n",
              "       [ 1.58663342,  0.62404544,  1.60018938,  0.97064348],\n",
              "       [ 1.58663342,  1.93929817, -0.62492603, -1.03024439],\n",
              "       [-0.91577499, -0.69120728, -0.62492603, -1.03024439],\n",
              "       [-0.91577499, -0.69120728, -0.62492603,  0.97064348],\n",
              "       [ 1.58663342, -0.69120728,  1.60018938, -1.03024439],\n",
              "       [ 0.33542921,  1.93929817, -0.62492603,  0.97064348],\n",
              "       [-0.91577499, -0.69120728, -0.62492603, -1.03024439],\n",
              "       [ 0.33542921,  1.93929817, -0.62492603,  0.97064348],\n",
              "       [ 0.33542921, -0.69120728,  1.60018938, -1.03024439],\n",
              "       [-0.91577499, -0.69120728, -0.62492603, -1.03024439],\n",
              "       [-0.91577499, -0.69120728,  1.60018938, -1.03024439],\n",
              "       [ 0.33542921, -0.69120728, -0.62492603,  0.97064348],\n",
              "       [-0.91577499, -0.69120728, -0.62492603, -1.03024439],\n",
              "       [-0.91577499,  1.93929817,  1.60018938,  0.97064348],\n",
              "       [-0.91577499, -0.69120728, -0.62492603, -1.03024439],\n",
              "       [-0.91577499,  2.59692453,  1.60018938, -1.03024439],\n",
              "       [ 1.58663342,  1.93929817, -0.62492603,  0.97064348],\n",
              "       [ 0.33542921,  3.2545509 , -0.62492603,  0.97064348],\n",
              "       [-0.91577499, -0.03358092,  1.60018938, -1.03024439],\n",
              "       [ 0.33542921, -0.69120728, -0.62492603, -1.03024439],\n",
              "       [-0.91577499, -0.03358092, -0.62492603, -1.03024439]])"
            ]
          },
          "metadata": {},
          "execution_count": 398
        }
      ]
    },
    {
      "cell_type": "code",
      "source": [
        "parameters = {'n_estimators':[1, 10, 100, 1000],\n",
        "              'min_samples_split':[12, 15, 23, 34]}"
      ],
      "metadata": {
        "id": "nsklAB0hqmGS"
      },
      "execution_count": null,
      "outputs": []
    },
    {
      "cell_type": "code",
      "source": [
        "grid_pipeline = GridSearchCV(pipeline, param_grid=parameters, scoring='accuracy', cv=5)"
      ],
      "metadata": {
        "id": "qZKM2DsFrVX2"
      },
      "execution_count": null,
      "outputs": []
    },
    {
      "cell_type": "code",
      "source": [
        "grid_pipeline"
      ],
      "metadata": {
        "colab": {
          "base_uri": "https://localhost:8080/",
          "height": 213
        },
        "id": "5KdkToQQygAC",
        "outputId": "bee3357a-8ef9-4bb9-e5fa-4182f6452612"
      },
      "execution_count": null,
      "outputs": [
        {
          "output_type": "execute_result",
          "data": {
            "text/plain": [
              "GridSearchCV(cv=5,\n",
              "             estimator=Pipeline(steps=[('trans',\n",
              "                                        ColumnTransformer(remainder='passthrough',\n",
              "                                                          transformers=[('num',\n",
              "                                                                         MinMaxScaler(),\n",
              "                                                                         ['HEALTH',\n",
              "                                                                          'EMPLOY',\n",
              "                                                                          'ACUTEILL',\n",
              "                                                                          'CHRONILL'])])),\n",
              "                                       ('SVCLinear',\n",
              "                                        LinearSVC(C=1, max_iter=100000))]),\n",
              "             param_grid={'min_samples_split': [12, 15, 23, 34],\n",
              "                         'n_estimators': [1, 10, 100, 1000]},\n",
              "             scoring='accuracy')"
            ],
            "text/html": [
              "<style>#sk-container-id-48 {color: black;background-color: white;}#sk-container-id-48 pre{padding: 0;}#sk-container-id-48 div.sk-toggleable {background-color: white;}#sk-container-id-48 label.sk-toggleable__label {cursor: pointer;display: block;width: 100%;margin-bottom: 0;padding: 0.3em;box-sizing: border-box;text-align: center;}#sk-container-id-48 label.sk-toggleable__label-arrow:before {content: \"▸\";float: left;margin-right: 0.25em;color: #696969;}#sk-container-id-48 label.sk-toggleable__label-arrow:hover:before {color: black;}#sk-container-id-48 div.sk-estimator:hover label.sk-toggleable__label-arrow:before {color: black;}#sk-container-id-48 div.sk-toggleable__content {max-height: 0;max-width: 0;overflow: hidden;text-align: left;background-color: #f0f8ff;}#sk-container-id-48 div.sk-toggleable__content pre {margin: 0.2em;color: black;border-radius: 0.25em;background-color: #f0f8ff;}#sk-container-id-48 input.sk-toggleable__control:checked~div.sk-toggleable__content {max-height: 200px;max-width: 100%;overflow: auto;}#sk-container-id-48 input.sk-toggleable__control:checked~label.sk-toggleable__label-arrow:before {content: \"▾\";}#sk-container-id-48 div.sk-estimator input.sk-toggleable__control:checked~label.sk-toggleable__label {background-color: #d4ebff;}#sk-container-id-48 div.sk-label input.sk-toggleable__control:checked~label.sk-toggleable__label {background-color: #d4ebff;}#sk-container-id-48 input.sk-hidden--visually {border: 0;clip: rect(1px 1px 1px 1px);clip: rect(1px, 1px, 1px, 1px);height: 1px;margin: -1px;overflow: hidden;padding: 0;position: absolute;width: 1px;}#sk-container-id-48 div.sk-estimator {font-family: monospace;background-color: #f0f8ff;border: 1px dotted black;border-radius: 0.25em;box-sizing: border-box;margin-bottom: 0.5em;}#sk-container-id-48 div.sk-estimator:hover {background-color: #d4ebff;}#sk-container-id-48 div.sk-parallel-item::after {content: \"\";width: 100%;border-bottom: 1px solid gray;flex-grow: 1;}#sk-container-id-48 div.sk-label:hover label.sk-toggleable__label {background-color: #d4ebff;}#sk-container-id-48 div.sk-serial::before {content: \"\";position: absolute;border-left: 1px solid gray;box-sizing: border-box;top: 0;bottom: 0;left: 50%;z-index: 0;}#sk-container-id-48 div.sk-serial {display: flex;flex-direction: column;align-items: center;background-color: white;padding-right: 0.2em;padding-left: 0.2em;position: relative;}#sk-container-id-48 div.sk-item {position: relative;z-index: 1;}#sk-container-id-48 div.sk-parallel {display: flex;align-items: stretch;justify-content: center;background-color: white;position: relative;}#sk-container-id-48 div.sk-item::before, #sk-container-id-48 div.sk-parallel-item::before {content: \"\";position: absolute;border-left: 1px solid gray;box-sizing: border-box;top: 0;bottom: 0;left: 50%;z-index: -1;}#sk-container-id-48 div.sk-parallel-item {display: flex;flex-direction: column;z-index: 1;position: relative;background-color: white;}#sk-container-id-48 div.sk-parallel-item:first-child::after {align-self: flex-end;width: 50%;}#sk-container-id-48 div.sk-parallel-item:last-child::after {align-self: flex-start;width: 50%;}#sk-container-id-48 div.sk-parallel-item:only-child::after {width: 0;}#sk-container-id-48 div.sk-dashed-wrapped {border: 1px dashed gray;margin: 0 0.4em 0.5em 0.4em;box-sizing: border-box;padding-bottom: 0.4em;background-color: white;}#sk-container-id-48 div.sk-label label {font-family: monospace;font-weight: bold;display: inline-block;line-height: 1.2em;}#sk-container-id-48 div.sk-label-container {text-align: center;}#sk-container-id-48 div.sk-container {/* jupyter's `normalize.less` sets `[hidden] { display: none; }` but bootstrap.min.css set `[hidden] { display: none !important; }` so we also need the `!important` here to be able to override the default hidden behavior on the sphinx rendered scikit-learn.org. See: https://github.com/scikit-learn/scikit-learn/issues/21755 */display: inline-block !important;position: relative;}#sk-container-id-48 div.sk-text-repr-fallback {display: none;}</style><div id=\"sk-container-id-48\" class=\"sk-top-container\"><div class=\"sk-text-repr-fallback\"><pre>GridSearchCV(cv=5,\n",
              "             estimator=Pipeline(steps=[(&#x27;trans&#x27;,\n",
              "                                        ColumnTransformer(remainder=&#x27;passthrough&#x27;,\n",
              "                                                          transformers=[(&#x27;num&#x27;,\n",
              "                                                                         MinMaxScaler(),\n",
              "                                                                         [&#x27;HEALTH&#x27;,\n",
              "                                                                          &#x27;EMPLOY&#x27;,\n",
              "                                                                          &#x27;ACUTEILL&#x27;,\n",
              "                                                                          &#x27;CHRONILL&#x27;])])),\n",
              "                                       (&#x27;SVCLinear&#x27;,\n",
              "                                        LinearSVC(C=1, max_iter=100000))]),\n",
              "             param_grid={&#x27;min_samples_split&#x27;: [12, 15, 23, 34],\n",
              "                         &#x27;n_estimators&#x27;: [1, 10, 100, 1000]},\n",
              "             scoring=&#x27;accuracy&#x27;)</pre><b>In a Jupyter environment, please rerun this cell to show the HTML representation or trust the notebook. <br />On GitHub, the HTML representation is unable to render, please try loading this page with nbviewer.org.</b></div><div class=\"sk-container\" hidden><div class=\"sk-item sk-dashed-wrapped\"><div class=\"sk-label-container\"><div class=\"sk-label sk-toggleable\"><input class=\"sk-toggleable__control sk-hidden--visually\" id=\"sk-estimator-id-240\" type=\"checkbox\" ><label for=\"sk-estimator-id-240\" class=\"sk-toggleable__label sk-toggleable__label-arrow\">GridSearchCV</label><div class=\"sk-toggleable__content\"><pre>GridSearchCV(cv=5,\n",
              "             estimator=Pipeline(steps=[(&#x27;trans&#x27;,\n",
              "                                        ColumnTransformer(remainder=&#x27;passthrough&#x27;,\n",
              "                                                          transformers=[(&#x27;num&#x27;,\n",
              "                                                                         MinMaxScaler(),\n",
              "                                                                         [&#x27;HEALTH&#x27;,\n",
              "                                                                          &#x27;EMPLOY&#x27;,\n",
              "                                                                          &#x27;ACUTEILL&#x27;,\n",
              "                                                                          &#x27;CHRONILL&#x27;])])),\n",
              "                                       (&#x27;SVCLinear&#x27;,\n",
              "                                        LinearSVC(C=1, max_iter=100000))]),\n",
              "             param_grid={&#x27;min_samples_split&#x27;: [12, 15, 23, 34],\n",
              "                         &#x27;n_estimators&#x27;: [1, 10, 100, 1000]},\n",
              "             scoring=&#x27;accuracy&#x27;)</pre></div></div></div><div class=\"sk-parallel\"><div class=\"sk-parallel-item\"><div class=\"sk-item\"><div class=\"sk-label-container\"><div class=\"sk-label sk-toggleable\"><input class=\"sk-toggleable__control sk-hidden--visually\" id=\"sk-estimator-id-241\" type=\"checkbox\" ><label for=\"sk-estimator-id-241\" class=\"sk-toggleable__label sk-toggleable__label-arrow\">estimator: Pipeline</label><div class=\"sk-toggleable__content\"><pre>Pipeline(steps=[(&#x27;trans&#x27;,\n",
              "                 ColumnTransformer(remainder=&#x27;passthrough&#x27;,\n",
              "                                   transformers=[(&#x27;num&#x27;, MinMaxScaler(),\n",
              "                                                  [&#x27;HEALTH&#x27;, &#x27;EMPLOY&#x27;,\n",
              "                                                   &#x27;ACUTEILL&#x27;, &#x27;CHRONILL&#x27;])])),\n",
              "                (&#x27;SVCLinear&#x27;, LinearSVC(C=1, max_iter=100000))])</pre></div></div></div><div class=\"sk-serial\"><div class=\"sk-item\"><div class=\"sk-serial\"><div class=\"sk-item sk-dashed-wrapped\"><div class=\"sk-label-container\"><div class=\"sk-label sk-toggleable\"><input class=\"sk-toggleable__control sk-hidden--visually\" id=\"sk-estimator-id-242\" type=\"checkbox\" ><label for=\"sk-estimator-id-242\" class=\"sk-toggleable__label sk-toggleable__label-arrow\">trans: ColumnTransformer</label><div class=\"sk-toggleable__content\"><pre>ColumnTransformer(remainder=&#x27;passthrough&#x27;,\n",
              "                  transformers=[(&#x27;num&#x27;, MinMaxScaler(),\n",
              "                                 [&#x27;HEALTH&#x27;, &#x27;EMPLOY&#x27;, &#x27;ACUTEILL&#x27;, &#x27;CHRONILL&#x27;])])</pre></div></div></div><div class=\"sk-parallel\"><div class=\"sk-parallel-item\"><div class=\"sk-item\"><div class=\"sk-label-container\"><div class=\"sk-label sk-toggleable\"><input class=\"sk-toggleable__control sk-hidden--visually\" id=\"sk-estimator-id-243\" type=\"checkbox\" ><label for=\"sk-estimator-id-243\" class=\"sk-toggleable__label sk-toggleable__label-arrow\">num</label><div class=\"sk-toggleable__content\"><pre>[&#x27;HEALTH&#x27;, &#x27;EMPLOY&#x27;, &#x27;ACUTEILL&#x27;, &#x27;CHRONILL&#x27;]</pre></div></div></div><div class=\"sk-serial\"><div class=\"sk-item\"><div class=\"sk-estimator sk-toggleable\"><input class=\"sk-toggleable__control sk-hidden--visually\" id=\"sk-estimator-id-244\" type=\"checkbox\" ><label for=\"sk-estimator-id-244\" class=\"sk-toggleable__label sk-toggleable__label-arrow\">MinMaxScaler</label><div class=\"sk-toggleable__content\"><pre>MinMaxScaler()</pre></div></div></div></div></div></div><div class=\"sk-parallel-item\"><div class=\"sk-item\"><div class=\"sk-label-container\"><div class=\"sk-label sk-toggleable\"><input class=\"sk-toggleable__control sk-hidden--visually\" id=\"sk-estimator-id-245\" type=\"checkbox\" ><label for=\"sk-estimator-id-245\" class=\"sk-toggleable__label sk-toggleable__label-arrow\">remainder</label><div class=\"sk-toggleable__content\"><pre>[]</pre></div></div></div><div class=\"sk-serial\"><div class=\"sk-item\"><div class=\"sk-estimator sk-toggleable\"><input class=\"sk-toggleable__control sk-hidden--visually\" id=\"sk-estimator-id-246\" type=\"checkbox\" ><label for=\"sk-estimator-id-246\" class=\"sk-toggleable__label sk-toggleable__label-arrow\">passthrough</label><div class=\"sk-toggleable__content\"><pre>passthrough</pre></div></div></div></div></div></div></div></div><div class=\"sk-item\"><div class=\"sk-estimator sk-toggleable\"><input class=\"sk-toggleable__control sk-hidden--visually\" id=\"sk-estimator-id-247\" type=\"checkbox\" ><label for=\"sk-estimator-id-247\" class=\"sk-toggleable__label sk-toggleable__label-arrow\">LinearSVC</label><div class=\"sk-toggleable__content\"><pre>LinearSVC(C=1, max_iter=100000)</pre></div></div></div></div></div></div></div></div></div></div></div></div>"
            ]
          },
          "metadata": {},
          "execution_count": 414
        }
      ]
    },
    {
      "cell_type": "code",
      "source": [
        "from sklearn.model_selection import KFold, cross_val_score, train_test_split\n",
        "from sklearn.preprocessing import scale\n",
        "from sklearn.decomposition import PCA\n",
        "lin_reg = LinearRegression().fit(X_train, y_train)"
      ],
      "metadata": {
        "id": "eKudyViI86Cp"
      },
      "execution_count": null,
      "outputs": []
    },
    {
      "cell_type": "code",
      "source": [
        "X_train_scaled = scale(X_train)\n",
        "X_test_scaled = scale(X_test)"
      ],
      "metadata": {
        "id": "PSPAz6_6tp4q"
      },
      "execution_count": null,
      "outputs": []
    },
    {
      "cell_type": "code",
      "source": [
        "cv = KFold(n_splits=10, shuffle=True, random_state=42)"
      ],
      "metadata": {
        "id": "sh3JNtOX9hN1"
      },
      "execution_count": null,
      "outputs": []
    },
    {
      "cell_type": "code",
      "source": [
        "lin_reg = LinearRegression()\n",
        "pca = PCA() # Default n_components = min(n_samples, n_features)\n",
        "X_train_pc = pca.fit_transform(X_train_scaled)"
      ],
      "metadata": {
        "id": "FD8eCo4T9tR8"
      },
      "execution_count": null,
      "outputs": []
    },
    {
      "cell_type": "code",
      "source": [
        "rmse_list = []"
      ],
      "metadata": {
        "id": "u2FfgMWN9_q1"
      },
      "execution_count": null,
      "outputs": []
    },
    {
      "cell_type": "code",
      "source": [
        "for i in range(1, X_train_pc.shape[1]+1):\n",
        "    rmse_score = -1 * cross_val_score(lin_reg, \n",
        "                                      X_train_pc[:,:i], # Use first k principal components\n",
        "                                      y_train, \n",
        "                                      cv=cv, \n",
        "                                      scoring='neg_root_mean_squared_error').mean()\n",
        "    rmse_list.append(rmse_score)"
      ],
      "metadata": {
        "id": "IJ4LInww-DdM"
      },
      "execution_count": null,
      "outputs": []
    },
    {
      "cell_type": "code",
      "source": [
        "#Visual analysis - plot RMSE vs count of principal components used\n",
        "plt.plot(rmse_list, '-o');\n",
        "plt.xlabel('Number of Principal Components in Regression');\n",
        "plt.ylabel('RMSE');\n",
        "plt.title('Quality');\n",
        "plt.xlim(xmin=-1);\n",
        "plt.xticks(np.arange(X_train_pc.shape[1]), np.arange(1, X_train_pc.shape[1]+1));"
      ],
      "metadata": {
        "colab": {
          "base_uri": "https://localhost:8080/",
          "height": 508
        },
        "id": "CniSlwjI-iXb",
        "outputId": "b9f24344-2386-4191-902f-a1aa33b447ac"
      },
      "execution_count": null,
      "outputs": [
        {
          "output_type": "display_data",
          "data": {
            "text/plain": [
              "<Figure size 640x480 with 1 Axes>"
            ],
            "image/png": "[encoded data removed]"
          },
          "metadata": {}
        }
      ]
    },
    {
      "cell_type": "markdown",
      "source": [
        "###Conclusion: \n",
        "Based on the results of mean square error values were fairly close form both linear and SVM Regression models. With the adjusted R-squared being 0.616, the values show decent accuracy with this fairly large data set. The ROC Curve shows a score of 0.4627, with a ROC score the True Positive, and False Negative Rates a higher X-axis value indicates a higher number of False positives than True negatives. While a higher Y-axis value indicates a higher number of True positives than False negatives. Therefore in this scenario the accuracy of the prediction was upheld but it was definitely not ideal, but it would be even better if the scores for R-square were over 0.75%. The PCR is telling us that based on the quality related process monitoring for the system being used that the smaller number of principal components represents most of the variability in the data and (presumptively) the relationship with the target variable. In this case the quality from PC1 to PC4 varies less than 0.0035. Based on the current data set there is an indication that 84% of females and 16% of males suffuer from some form of depression based on the level of education, income, illness, and overall health."
      ],
      "metadata": {
        "id": "wUrjnEWrZ6EP"
      }
    },
    {
      "cell_type": "code",
      "source": [],
      "metadata": {
        "id": "x7GneSJG_ISl"
      },
      "execution_count": null,
      "outputs": []
    }
  ]
}